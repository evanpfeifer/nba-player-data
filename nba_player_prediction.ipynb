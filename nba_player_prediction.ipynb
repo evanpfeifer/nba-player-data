{
 "cells": [
  {
   "cell_type": "markdown",
   "metadata": {
    "colab_type": "text",
    "id": "WQSFqmLdH1bW"
   },
   "source": [
    "# NBA Player Prediction\n"
   ]
  },
  {
   "cell_type": "markdown",
   "metadata": {
    "colab_type": "text",
    "id": "urL_kLzXH5eN"
   },
   "source": [
    "In this project, we will use data from the 2017-2018 NBA season to predict the number of points a player scores. We will split our full dataset into training and testing sets. Then, we will perform exploratory analyses on the training set to help us gauge which features should be used in our model. We can then utilize machine learning principles to train a model that predicts the number of points per game a given player score.\n",
    "\n",
    "Before beginning, it is important to note that we are not attempting to determine how valuable a player is to a team in the way that metrics such as win shares and value over replacement attempt to do. We are simply attempting to create a model that takes in a player's statistics and guesses how many points per game he will score."
   ]
  },
  {
   "cell_type": "markdown",
   "metadata": {
    "colab_type": "text",
    "id": "BDT30zAoJZho"
   },
   "source": [
    "## Importing Libraries"
   ]
  },
  {
   "cell_type": "code",
   "execution_count": 1,
   "metadata": {
    "colab": {},
    "colab_type": "code",
    "id": "w4v0kknRHuuH"
   },
   "outputs": [],
   "source": [
    "# Linear algebra\n",
    "import numpy as np\n",
    "\n",
    "# Data processing\n",
    "import pandas as pd\n",
    "\n",
    "# Data visualization\n",
    "import seaborn as sns\n",
    "sns.set()\n",
    "\n",
    "%matplotlib inline\n",
    "from matplotlib import pyplot as plt\n",
    "from matplotlib import style\n",
    "\n",
    "# Machine learning\n",
    "from sklearn.linear_model import LinearRegression\n",
    "from sklearn.tree import DecisionTreeRegressor\n",
    "from sklearn.preprocessing import PolynomialFeatures\n",
    "from sklearn.ensemble import RandomForestRegressor\n",
    "from sklearn.linear_model import Ridge\n",
    "from sklearn.linear_model import Lasso\n",
    "\n",
    "from sklearn.model_selection import train_test_split, cross_val_score\n",
    "from sklearn.model_selection import GridSearchCV\n",
    "from sklearn.metrics import r2_score, explained_variance_score as EVS, mean_squared_error as MSE"
   ]
  },
  {
   "cell_type": "markdown",
   "metadata": {
    "colab_type": "text",
    "id": "Wt-RS5LBJ8Uj"
   },
   "source": [
    "## Loading the Data"
   ]
  },
  {
   "cell_type": "code",
   "execution_count": 2,
   "metadata": {
    "colab": {},
    "colab_type": "code",
    "id": "-M3fJ99VQoe0"
   },
   "outputs": [],
   "source": [
    "# Extra data on players 'https://raw.githubusercontent.com/evanpfeifer/nba-player-data/master/Players.csv'\n",
    "# Extra data on players 'https://raw.githubusercontent.com/evanpfeifer/nba-player-data/master/player_data.csv'\n",
    "url = 'https://raw.githubusercontent.com/evanpfeifer/nba-player-data/master/Seasons_Stats.csv'\n",
    "df = pd.read_csv(url)"
   ]
  },
  {
   "cell_type": "code",
   "execution_count": 3,
   "metadata": {
    "colab": {
     "base_uri": "https://localhost:8080/",
     "height": 470
    },
    "colab_type": "code",
    "id": "Fyg0KfV9w-Wr",
    "outputId": "7a8036ff-8717-481e-97e0-27e6c6e84997"
   },
   "outputs": [
    {
     "data": {
      "text/html": [
       "<div>\n",
       "<style scoped>\n",
       "    .dataframe tbody tr th:only-of-type {\n",
       "        vertical-align: middle;\n",
       "    }\n",
       "\n",
       "    .dataframe tbody tr th {\n",
       "        vertical-align: top;\n",
       "    }\n",
       "\n",
       "    .dataframe thead th {\n",
       "        text-align: right;\n",
       "    }\n",
       "</style>\n",
       "<table border=\"1\" class=\"dataframe\">\n",
       "  <thead>\n",
       "    <tr style=\"text-align: right;\">\n",
       "      <th></th>\n",
       "      <th>Unnamed: 0</th>\n",
       "      <th>Year</th>\n",
       "      <th>Player</th>\n",
       "      <th>Pos</th>\n",
       "      <th>Age</th>\n",
       "      <th>Tm</th>\n",
       "      <th>G</th>\n",
       "      <th>GS</th>\n",
       "      <th>MP</th>\n",
       "      <th>PER</th>\n",
       "      <th>...</th>\n",
       "      <th>FT%</th>\n",
       "      <th>ORB</th>\n",
       "      <th>DRB</th>\n",
       "      <th>TRB</th>\n",
       "      <th>AST</th>\n",
       "      <th>STL</th>\n",
       "      <th>BLK</th>\n",
       "      <th>TOV</th>\n",
       "      <th>PF</th>\n",
       "      <th>PTS</th>\n",
       "    </tr>\n",
       "  </thead>\n",
       "  <tbody>\n",
       "    <tr>\n",
       "      <th>20133</th>\n",
       "      <td>20133</td>\n",
       "      <td>2010.0</td>\n",
       "      <td>James Harden</td>\n",
       "      <td>SG</td>\n",
       "      <td>20.0</td>\n",
       "      <td>OKC</td>\n",
       "      <td>76.0</td>\n",
       "      <td>0.0</td>\n",
       "      <td>1738.0</td>\n",
       "      <td>14.0</td>\n",
       "      <td>...</td>\n",
       "      <td>0.808</td>\n",
       "      <td>47.0</td>\n",
       "      <td>197.0</td>\n",
       "      <td>244.0</td>\n",
       "      <td>137.0</td>\n",
       "      <td>80.0</td>\n",
       "      <td>20.0</td>\n",
       "      <td>106.0</td>\n",
       "      <td>200.0</td>\n",
       "      <td>753.0</td>\n",
       "    </tr>\n",
       "    <tr>\n",
       "      <th>20766</th>\n",
       "      <td>20766</td>\n",
       "      <td>2011.0</td>\n",
       "      <td>James Harden</td>\n",
       "      <td>SG</td>\n",
       "      <td>21.0</td>\n",
       "      <td>OKC</td>\n",
       "      <td>82.0</td>\n",
       "      <td>5.0</td>\n",
       "      <td>2189.0</td>\n",
       "      <td>16.4</td>\n",
       "      <td>...</td>\n",
       "      <td>0.843</td>\n",
       "      <td>42.0</td>\n",
       "      <td>213.0</td>\n",
       "      <td>255.0</td>\n",
       "      <td>176.0</td>\n",
       "      <td>92.0</td>\n",
       "      <td>24.0</td>\n",
       "      <td>106.0</td>\n",
       "      <td>207.0</td>\n",
       "      <td>998.0</td>\n",
       "    </tr>\n",
       "    <tr>\n",
       "      <th>21338</th>\n",
       "      <td>21338</td>\n",
       "      <td>2012.0</td>\n",
       "      <td>James Harden</td>\n",
       "      <td>SG</td>\n",
       "      <td>22.0</td>\n",
       "      <td>OKC</td>\n",
       "      <td>62.0</td>\n",
       "      <td>2.0</td>\n",
       "      <td>1946.0</td>\n",
       "      <td>21.1</td>\n",
       "      <td>...</td>\n",
       "      <td>0.846</td>\n",
       "      <td>30.0</td>\n",
       "      <td>222.0</td>\n",
       "      <td>252.0</td>\n",
       "      <td>229.0</td>\n",
       "      <td>62.0</td>\n",
       "      <td>15.0</td>\n",
       "      <td>137.0</td>\n",
       "      <td>150.0</td>\n",
       "      <td>1044.0</td>\n",
       "    </tr>\n",
       "    <tr>\n",
       "      <th>21886</th>\n",
       "      <td>21886</td>\n",
       "      <td>2013.0</td>\n",
       "      <td>James Harden</td>\n",
       "      <td>SG</td>\n",
       "      <td>23.0</td>\n",
       "      <td>HOU</td>\n",
       "      <td>78.0</td>\n",
       "      <td>78.0</td>\n",
       "      <td>2985.0</td>\n",
       "      <td>23.0</td>\n",
       "      <td>...</td>\n",
       "      <td>0.851</td>\n",
       "      <td>62.0</td>\n",
       "      <td>317.0</td>\n",
       "      <td>379.0</td>\n",
       "      <td>455.0</td>\n",
       "      <td>142.0</td>\n",
       "      <td>38.0</td>\n",
       "      <td>295.0</td>\n",
       "      <td>178.0</td>\n",
       "      <td>2023.0</td>\n",
       "    </tr>\n",
       "    <tr>\n",
       "      <th>22504</th>\n",
       "      <td>22504</td>\n",
       "      <td>2014.0</td>\n",
       "      <td>James Harden</td>\n",
       "      <td>SG</td>\n",
       "      <td>24.0</td>\n",
       "      <td>HOU</td>\n",
       "      <td>73.0</td>\n",
       "      <td>73.0</td>\n",
       "      <td>2777.0</td>\n",
       "      <td>23.5</td>\n",
       "      <td>...</td>\n",
       "      <td>0.866</td>\n",
       "      <td>61.0</td>\n",
       "      <td>283.0</td>\n",
       "      <td>344.0</td>\n",
       "      <td>446.0</td>\n",
       "      <td>115.0</td>\n",
       "      <td>29.0</td>\n",
       "      <td>265.0</td>\n",
       "      <td>177.0</td>\n",
       "      <td>1851.0</td>\n",
       "    </tr>\n",
       "    <tr>\n",
       "      <th>23114</th>\n",
       "      <td>23114</td>\n",
       "      <td>2015.0</td>\n",
       "      <td>James Harden</td>\n",
       "      <td>SG</td>\n",
       "      <td>25.0</td>\n",
       "      <td>HOU</td>\n",
       "      <td>81.0</td>\n",
       "      <td>81.0</td>\n",
       "      <td>2981.0</td>\n",
       "      <td>26.7</td>\n",
       "      <td>...</td>\n",
       "      <td>0.868</td>\n",
       "      <td>75.0</td>\n",
       "      <td>384.0</td>\n",
       "      <td>459.0</td>\n",
       "      <td>565.0</td>\n",
       "      <td>154.0</td>\n",
       "      <td>60.0</td>\n",
       "      <td>321.0</td>\n",
       "      <td>208.0</td>\n",
       "      <td>2217.0</td>\n",
       "    </tr>\n",
       "    <tr>\n",
       "      <th>23722</th>\n",
       "      <td>23722</td>\n",
       "      <td>2016.0</td>\n",
       "      <td>James Harden</td>\n",
       "      <td>SG</td>\n",
       "      <td>26.0</td>\n",
       "      <td>HOU</td>\n",
       "      <td>82.0</td>\n",
       "      <td>82.0</td>\n",
       "      <td>3125.0</td>\n",
       "      <td>25.3</td>\n",
       "      <td>...</td>\n",
       "      <td>0.860</td>\n",
       "      <td>63.0</td>\n",
       "      <td>438.0</td>\n",
       "      <td>501.0</td>\n",
       "      <td>612.0</td>\n",
       "      <td>139.0</td>\n",
       "      <td>51.0</td>\n",
       "      <td>374.0</td>\n",
       "      <td>229.0</td>\n",
       "      <td>2376.0</td>\n",
       "    </tr>\n",
       "    <tr>\n",
       "      <th>24306</th>\n",
       "      <td>24306</td>\n",
       "      <td>2017.0</td>\n",
       "      <td>James Harden</td>\n",
       "      <td>PG</td>\n",
       "      <td>27.0</td>\n",
       "      <td>HOU</td>\n",
       "      <td>81.0</td>\n",
       "      <td>81.0</td>\n",
       "      <td>2947.0</td>\n",
       "      <td>27.3</td>\n",
       "      <td>...</td>\n",
       "      <td>0.847</td>\n",
       "      <td>95.0</td>\n",
       "      <td>564.0</td>\n",
       "      <td>659.0</td>\n",
       "      <td>906.0</td>\n",
       "      <td>120.0</td>\n",
       "      <td>37.0</td>\n",
       "      <td>464.0</td>\n",
       "      <td>215.0</td>\n",
       "      <td>2356.0</td>\n",
       "    </tr>\n",
       "  </tbody>\n",
       "</table>\n",
       "<p>8 rows × 53 columns</p>\n",
       "</div>"
      ],
      "text/plain": [
       "       Unnamed: 0    Year        Player Pos   Age   Tm     G    GS      MP  \\\n",
       "20133       20133  2010.0  James Harden  SG  20.0  OKC  76.0   0.0  1738.0   \n",
       "20766       20766  2011.0  James Harden  SG  21.0  OKC  82.0   5.0  2189.0   \n",
       "21338       21338  2012.0  James Harden  SG  22.0  OKC  62.0   2.0  1946.0   \n",
       "21886       21886  2013.0  James Harden  SG  23.0  HOU  78.0  78.0  2985.0   \n",
       "22504       22504  2014.0  James Harden  SG  24.0  HOU  73.0  73.0  2777.0   \n",
       "23114       23114  2015.0  James Harden  SG  25.0  HOU  81.0  81.0  2981.0   \n",
       "23722       23722  2016.0  James Harden  SG  26.0  HOU  82.0  82.0  3125.0   \n",
       "24306       24306  2017.0  James Harden  PG  27.0  HOU  81.0  81.0  2947.0   \n",
       "\n",
       "        PER  ...    FT%   ORB    DRB    TRB    AST    STL   BLK    TOV     PF  \\\n",
       "20133  14.0  ...  0.808  47.0  197.0  244.0  137.0   80.0  20.0  106.0  200.0   \n",
       "20766  16.4  ...  0.843  42.0  213.0  255.0  176.0   92.0  24.0  106.0  207.0   \n",
       "21338  21.1  ...  0.846  30.0  222.0  252.0  229.0   62.0  15.0  137.0  150.0   \n",
       "21886  23.0  ...  0.851  62.0  317.0  379.0  455.0  142.0  38.0  295.0  178.0   \n",
       "22504  23.5  ...  0.866  61.0  283.0  344.0  446.0  115.0  29.0  265.0  177.0   \n",
       "23114  26.7  ...  0.868  75.0  384.0  459.0  565.0  154.0  60.0  321.0  208.0   \n",
       "23722  25.3  ...  0.860  63.0  438.0  501.0  612.0  139.0  51.0  374.0  229.0   \n",
       "24306  27.3  ...  0.847  95.0  564.0  659.0  906.0  120.0  37.0  464.0  215.0   \n",
       "\n",
       "          PTS  \n",
       "20133   753.0  \n",
       "20766   998.0  \n",
       "21338  1044.0  \n",
       "21886  2023.0  \n",
       "22504  1851.0  \n",
       "23114  2217.0  \n",
       "23722  2376.0  \n",
       "24306  2356.0  \n",
       "\n",
       "[8 rows x 53 columns]"
      ]
     },
     "execution_count": 3,
     "metadata": {},
     "output_type": "execute_result"
    }
   ],
   "source": [
    "df.loc[df.Player==\"James Harden\"]"
   ]
  },
  {
   "cell_type": "markdown",
   "metadata": {
    "colab_type": "text",
    "id": "rHu4P692LiBQ"
   },
   "source": [
    "## Cleaning"
   ]
  },
  {
   "cell_type": "code",
   "execution_count": 4,
   "metadata": {
    "colab": {
     "base_uri": "https://localhost:8080/",
     "height": 326
    },
    "colab_type": "code",
    "id": "hacMDvWKPzm3",
    "outputId": "7e7ffe63-6302-400e-d7c8-1e3c271fb688"
   },
   "outputs": [
    {
     "data": {
      "text/html": [
       "<div>\n",
       "<style scoped>\n",
       "    .dataframe tbody tr th:only-of-type {\n",
       "        vertical-align: middle;\n",
       "    }\n",
       "\n",
       "    .dataframe tbody tr th {\n",
       "        vertical-align: top;\n",
       "    }\n",
       "\n",
       "    .dataframe thead th {\n",
       "        text-align: right;\n",
       "    }\n",
       "</style>\n",
       "<table border=\"1\" class=\"dataframe\">\n",
       "  <thead>\n",
       "    <tr style=\"text-align: right;\">\n",
       "      <th></th>\n",
       "      <th>Unnamed: 0</th>\n",
       "      <th>Year</th>\n",
       "      <th>Player</th>\n",
       "      <th>Pos</th>\n",
       "      <th>Age</th>\n",
       "      <th>Tm</th>\n",
       "      <th>G</th>\n",
       "      <th>GS</th>\n",
       "      <th>MP</th>\n",
       "      <th>PER</th>\n",
       "      <th>...</th>\n",
       "      <th>FT%</th>\n",
       "      <th>ORB</th>\n",
       "      <th>DRB</th>\n",
       "      <th>TRB</th>\n",
       "      <th>AST</th>\n",
       "      <th>STL</th>\n",
       "      <th>BLK</th>\n",
       "      <th>TOV</th>\n",
       "      <th>PF</th>\n",
       "      <th>PTS</th>\n",
       "    </tr>\n",
       "  </thead>\n",
       "  <tbody>\n",
       "    <tr>\n",
       "      <th>24096</th>\n",
       "      <td>24096</td>\n",
       "      <td>2017.0</td>\n",
       "      <td>Alex Abrines</td>\n",
       "      <td>SG</td>\n",
       "      <td>23.0</td>\n",
       "      <td>OKC</td>\n",
       "      <td>68.0</td>\n",
       "      <td>6.0</td>\n",
       "      <td>1055.0</td>\n",
       "      <td>10.1</td>\n",
       "      <td>...</td>\n",
       "      <td>0.898</td>\n",
       "      <td>18.0</td>\n",
       "      <td>68.0</td>\n",
       "      <td>86.0</td>\n",
       "      <td>40.0</td>\n",
       "      <td>37.0</td>\n",
       "      <td>8.0</td>\n",
       "      <td>33.0</td>\n",
       "      <td>114.0</td>\n",
       "      <td>406.0</td>\n",
       "    </tr>\n",
       "    <tr>\n",
       "      <th>24097</th>\n",
       "      <td>24097</td>\n",
       "      <td>2017.0</td>\n",
       "      <td>Quincy Acy</td>\n",
       "      <td>PF</td>\n",
       "      <td>26.0</td>\n",
       "      <td>TOT</td>\n",
       "      <td>38.0</td>\n",
       "      <td>1.0</td>\n",
       "      <td>558.0</td>\n",
       "      <td>11.8</td>\n",
       "      <td>...</td>\n",
       "      <td>0.750</td>\n",
       "      <td>20.0</td>\n",
       "      <td>95.0</td>\n",
       "      <td>115.0</td>\n",
       "      <td>18.0</td>\n",
       "      <td>14.0</td>\n",
       "      <td>15.0</td>\n",
       "      <td>21.0</td>\n",
       "      <td>67.0</td>\n",
       "      <td>222.0</td>\n",
       "    </tr>\n",
       "    <tr>\n",
       "      <th>24098</th>\n",
       "      <td>24098</td>\n",
       "      <td>2017.0</td>\n",
       "      <td>Quincy Acy</td>\n",
       "      <td>PF</td>\n",
       "      <td>26.0</td>\n",
       "      <td>DAL</td>\n",
       "      <td>6.0</td>\n",
       "      <td>0.0</td>\n",
       "      <td>48.0</td>\n",
       "      <td>-1.4</td>\n",
       "      <td>...</td>\n",
       "      <td>0.667</td>\n",
       "      <td>2.0</td>\n",
       "      <td>6.0</td>\n",
       "      <td>8.0</td>\n",
       "      <td>0.0</td>\n",
       "      <td>0.0</td>\n",
       "      <td>0.0</td>\n",
       "      <td>2.0</td>\n",
       "      <td>9.0</td>\n",
       "      <td>13.0</td>\n",
       "    </tr>\n",
       "    <tr>\n",
       "      <th>24099</th>\n",
       "      <td>24099</td>\n",
       "      <td>2017.0</td>\n",
       "      <td>Quincy Acy</td>\n",
       "      <td>PF</td>\n",
       "      <td>26.0</td>\n",
       "      <td>BRK</td>\n",
       "      <td>32.0</td>\n",
       "      <td>1.0</td>\n",
       "      <td>510.0</td>\n",
       "      <td>13.1</td>\n",
       "      <td>...</td>\n",
       "      <td>0.754</td>\n",
       "      <td>18.0</td>\n",
       "      <td>89.0</td>\n",
       "      <td>107.0</td>\n",
       "      <td>18.0</td>\n",
       "      <td>14.0</td>\n",
       "      <td>15.0</td>\n",
       "      <td>19.0</td>\n",
       "      <td>58.0</td>\n",
       "      <td>209.0</td>\n",
       "    </tr>\n",
       "    <tr>\n",
       "      <th>24100</th>\n",
       "      <td>24100</td>\n",
       "      <td>2017.0</td>\n",
       "      <td>Steven Adams</td>\n",
       "      <td>C</td>\n",
       "      <td>23.0</td>\n",
       "      <td>OKC</td>\n",
       "      <td>80.0</td>\n",
       "      <td>80.0</td>\n",
       "      <td>2389.0</td>\n",
       "      <td>16.5</td>\n",
       "      <td>...</td>\n",
       "      <td>0.611</td>\n",
       "      <td>282.0</td>\n",
       "      <td>333.0</td>\n",
       "      <td>615.0</td>\n",
       "      <td>86.0</td>\n",
       "      <td>88.0</td>\n",
       "      <td>78.0</td>\n",
       "      <td>146.0</td>\n",
       "      <td>195.0</td>\n",
       "      <td>905.0</td>\n",
       "    </tr>\n",
       "  </tbody>\n",
       "</table>\n",
       "<p>5 rows × 53 columns</p>\n",
       "</div>"
      ],
      "text/plain": [
       "       Unnamed: 0    Year        Player Pos   Age   Tm     G    GS      MP  \\\n",
       "24096       24096  2017.0  Alex Abrines  SG  23.0  OKC  68.0   6.0  1055.0   \n",
       "24097       24097  2017.0    Quincy Acy  PF  26.0  TOT  38.0   1.0   558.0   \n",
       "24098       24098  2017.0    Quincy Acy  PF  26.0  DAL   6.0   0.0    48.0   \n",
       "24099       24099  2017.0    Quincy Acy  PF  26.0  BRK  32.0   1.0   510.0   \n",
       "24100       24100  2017.0  Steven Adams   C  23.0  OKC  80.0  80.0  2389.0   \n",
       "\n",
       "        PER  ...    FT%    ORB    DRB    TRB   AST   STL   BLK    TOV     PF  \\\n",
       "24096  10.1  ...  0.898   18.0   68.0   86.0  40.0  37.0   8.0   33.0  114.0   \n",
       "24097  11.8  ...  0.750   20.0   95.0  115.0  18.0  14.0  15.0   21.0   67.0   \n",
       "24098  -1.4  ...  0.667    2.0    6.0    8.0   0.0   0.0   0.0    2.0    9.0   \n",
       "24099  13.1  ...  0.754   18.0   89.0  107.0  18.0  14.0  15.0   19.0   58.0   \n",
       "24100  16.5  ...  0.611  282.0  333.0  615.0  86.0  88.0  78.0  146.0  195.0   \n",
       "\n",
       "         PTS  \n",
       "24096  406.0  \n",
       "24097  222.0  \n",
       "24098   13.0  \n",
       "24099  209.0  \n",
       "24100  905.0  \n",
       "\n",
       "[5 rows x 53 columns]"
      ]
     },
     "execution_count": 4,
     "metadata": {},
     "output_type": "execute_result"
    }
   ],
   "source": [
    "# Filter for 2017/2018 season\n",
    "df = df[df['Year'] == 2017]\n",
    "df.head()\n"
   ]
  },
  {
   "cell_type": "markdown",
   "metadata": {
    "colab_type": "text",
    "id": "UFCbIP9btP6Y"
   },
   "source": [
    "Here we can see that a player can span multiple rows if they played for more than one team during the season. We are going to disregard the team(s) that any given player played for so that we have one row per player during the season. Whenever a player played for more than one team, they have a row with team name \"TOT\" that gives their overall statistics across all teams they played for."
   ]
  },
  {
   "cell_type": "code",
   "execution_count": 5,
   "metadata": {
    "colab": {
     "base_uri": "https://localhost:8080/",
     "height": 278
    },
    "colab_type": "code",
    "id": "8TTdreRq0NYV",
    "outputId": "b9ae6810-6c99-4784-db03-564d3a83f644"
   },
   "outputs": [
    {
     "data": {
      "text/html": [
       "<div>\n",
       "<style scoped>\n",
       "    .dataframe tbody tr th:only-of-type {\n",
       "        vertical-align: middle;\n",
       "    }\n",
       "\n",
       "    .dataframe tbody tr th {\n",
       "        vertical-align: top;\n",
       "    }\n",
       "\n",
       "    .dataframe thead th {\n",
       "        text-align: right;\n",
       "    }\n",
       "</style>\n",
       "<table border=\"1\" class=\"dataframe\">\n",
       "  <thead>\n",
       "    <tr style=\"text-align: right;\">\n",
       "      <th></th>\n",
       "      <th>Unnamed: 0</th>\n",
       "      <th>Year</th>\n",
       "      <th>Player</th>\n",
       "      <th>Pos</th>\n",
       "      <th>Age</th>\n",
       "      <th>Tm</th>\n",
       "      <th>G</th>\n",
       "      <th>GS</th>\n",
       "      <th>MP</th>\n",
       "      <th>PER</th>\n",
       "      <th>...</th>\n",
       "      <th>FT%</th>\n",
       "      <th>ORB</th>\n",
       "      <th>DRB</th>\n",
       "      <th>TRB</th>\n",
       "      <th>AST</th>\n",
       "      <th>STL</th>\n",
       "      <th>BLK</th>\n",
       "      <th>TOV</th>\n",
       "      <th>PF</th>\n",
       "      <th>PTS</th>\n",
       "    </tr>\n",
       "  </thead>\n",
       "  <tbody>\n",
       "    <tr>\n",
       "      <th>24354</th>\n",
       "      <td>24354</td>\n",
       "      <td>2017.0</td>\n",
       "      <td>Ersan Ilyasova</td>\n",
       "      <td>PF</td>\n",
       "      <td>29.0</td>\n",
       "      <td>TOT</td>\n",
       "      <td>82.0</td>\n",
       "      <td>52.0</td>\n",
       "      <td>2142.0</td>\n",
       "      <td>14.6</td>\n",
       "      <td>...</td>\n",
       "      <td>0.778</td>\n",
       "      <td>115.0</td>\n",
       "      <td>366.0</td>\n",
       "      <td>481.0</td>\n",
       "      <td>141.0</td>\n",
       "      <td>58.0</td>\n",
       "      <td>23.0</td>\n",
       "      <td>116.0</td>\n",
       "      <td>211.0</td>\n",
       "      <td>1071.0</td>\n",
       "    </tr>\n",
       "    <tr>\n",
       "      <th>24355</th>\n",
       "      <td>24355</td>\n",
       "      <td>2017.0</td>\n",
       "      <td>Ersan Ilyasova</td>\n",
       "      <td>PF</td>\n",
       "      <td>29.0</td>\n",
       "      <td>OKC</td>\n",
       "      <td>3.0</td>\n",
       "      <td>0.0</td>\n",
       "      <td>62.0</td>\n",
       "      <td>6.9</td>\n",
       "      <td>...</td>\n",
       "      <td>NaN</td>\n",
       "      <td>2.0</td>\n",
       "      <td>14.0</td>\n",
       "      <td>16.0</td>\n",
       "      <td>1.0</td>\n",
       "      <td>3.0</td>\n",
       "      <td>1.0</td>\n",
       "      <td>4.0</td>\n",
       "      <td>5.0</td>\n",
       "      <td>15.0</td>\n",
       "    </tr>\n",
       "    <tr>\n",
       "      <th>24356</th>\n",
       "      <td>24356</td>\n",
       "      <td>2017.0</td>\n",
       "      <td>Ersan Ilyasova</td>\n",
       "      <td>PF</td>\n",
       "      <td>29.0</td>\n",
       "      <td>PHI</td>\n",
       "      <td>53.0</td>\n",
       "      <td>40.0</td>\n",
       "      <td>1447.0</td>\n",
       "      <td>15.4</td>\n",
       "      <td>...</td>\n",
       "      <td>0.768</td>\n",
       "      <td>71.0</td>\n",
       "      <td>243.0</td>\n",
       "      <td>314.0</td>\n",
       "      <td>97.0</td>\n",
       "      <td>33.0</td>\n",
       "      <td>14.0</td>\n",
       "      <td>78.0</td>\n",
       "      <td>133.0</td>\n",
       "      <td>786.0</td>\n",
       "    </tr>\n",
       "    <tr>\n",
       "      <th>24357</th>\n",
       "      <td>24357</td>\n",
       "      <td>2017.0</td>\n",
       "      <td>Ersan Ilyasova</td>\n",
       "      <td>PF</td>\n",
       "      <td>29.0</td>\n",
       "      <td>ATL</td>\n",
       "      <td>26.0</td>\n",
       "      <td>12.0</td>\n",
       "      <td>633.0</td>\n",
       "      <td>13.5</td>\n",
       "      <td>...</td>\n",
       "      <td>0.800</td>\n",
       "      <td>42.0</td>\n",
       "      <td>109.0</td>\n",
       "      <td>151.0</td>\n",
       "      <td>43.0</td>\n",
       "      <td>22.0</td>\n",
       "      <td>8.0</td>\n",
       "      <td>34.0</td>\n",
       "      <td>73.0</td>\n",
       "      <td>270.0</td>\n",
       "    </tr>\n",
       "  </tbody>\n",
       "</table>\n",
       "<p>4 rows × 53 columns</p>\n",
       "</div>"
      ],
      "text/plain": [
       "       Unnamed: 0    Year          Player Pos   Age   Tm     G    GS      MP  \\\n",
       "24354       24354  2017.0  Ersan Ilyasova  PF  29.0  TOT  82.0  52.0  2142.0   \n",
       "24355       24355  2017.0  Ersan Ilyasova  PF  29.0  OKC   3.0   0.0    62.0   \n",
       "24356       24356  2017.0  Ersan Ilyasova  PF  29.0  PHI  53.0  40.0  1447.0   \n",
       "24357       24357  2017.0  Ersan Ilyasova  PF  29.0  ATL  26.0  12.0   633.0   \n",
       "\n",
       "        PER  ...    FT%    ORB    DRB    TRB    AST   STL   BLK    TOV     PF  \\\n",
       "24354  14.6  ...  0.778  115.0  366.0  481.0  141.0  58.0  23.0  116.0  211.0   \n",
       "24355   6.9  ...    NaN    2.0   14.0   16.0    1.0   3.0   1.0    4.0    5.0   \n",
       "24356  15.4  ...  0.768   71.0  243.0  314.0   97.0  33.0  14.0   78.0  133.0   \n",
       "24357  13.5  ...  0.800   42.0  109.0  151.0   43.0  22.0   8.0   34.0   73.0   \n",
       "\n",
       "          PTS  \n",
       "24354  1071.0  \n",
       "24355    15.0  \n",
       "24356   786.0  \n",
       "24357   270.0  \n",
       "\n",
       "[4 rows x 53 columns]"
      ]
     },
     "execution_count": 5,
     "metadata": {},
     "output_type": "execute_result"
    }
   ],
   "source": [
    "df.loc[df.Player == 'Ersan Ilyasova']"
   ]
  },
  {
   "cell_type": "code",
   "execution_count": 6,
   "metadata": {
    "colab": {
     "base_uri": "https://localhost:8080/",
     "height": 326
    },
    "colab_type": "code",
    "id": "hYS920_Btq2a",
    "outputId": "2772e90d-4d4a-4a30-d195-5d052b47fe40"
   },
   "outputs": [
    {
     "data": {
      "text/html": [
       "<div>\n",
       "<style scoped>\n",
       "    .dataframe tbody tr th:only-of-type {\n",
       "        vertical-align: middle;\n",
       "    }\n",
       "\n",
       "    .dataframe tbody tr th {\n",
       "        vertical-align: top;\n",
       "    }\n",
       "\n",
       "    .dataframe thead th {\n",
       "        text-align: right;\n",
       "    }\n",
       "</style>\n",
       "<table border=\"1\" class=\"dataframe\">\n",
       "  <thead>\n",
       "    <tr style=\"text-align: right;\">\n",
       "      <th></th>\n",
       "      <th>Unnamed: 0</th>\n",
       "      <th>Year</th>\n",
       "      <th>Player</th>\n",
       "      <th>Pos</th>\n",
       "      <th>Age</th>\n",
       "      <th>Tm</th>\n",
       "      <th>G</th>\n",
       "      <th>GS</th>\n",
       "      <th>MP</th>\n",
       "      <th>PER</th>\n",
       "      <th>...</th>\n",
       "      <th>FT%</th>\n",
       "      <th>ORB</th>\n",
       "      <th>DRB</th>\n",
       "      <th>TRB</th>\n",
       "      <th>AST</th>\n",
       "      <th>STL</th>\n",
       "      <th>BLK</th>\n",
       "      <th>TOV</th>\n",
       "      <th>PF</th>\n",
       "      <th>PTS</th>\n",
       "    </tr>\n",
       "  </thead>\n",
       "  <tbody>\n",
       "    <tr>\n",
       "      <th>24096</th>\n",
       "      <td>24096</td>\n",
       "      <td>2017.0</td>\n",
       "      <td>Alex Abrines</td>\n",
       "      <td>SG</td>\n",
       "      <td>23.0</td>\n",
       "      <td>OKC</td>\n",
       "      <td>68.0</td>\n",
       "      <td>6.0</td>\n",
       "      <td>1055.0</td>\n",
       "      <td>10.1</td>\n",
       "      <td>...</td>\n",
       "      <td>0.898</td>\n",
       "      <td>18.0</td>\n",
       "      <td>68.0</td>\n",
       "      <td>86.0</td>\n",
       "      <td>40.0</td>\n",
       "      <td>37.0</td>\n",
       "      <td>8.0</td>\n",
       "      <td>33.0</td>\n",
       "      <td>114.0</td>\n",
       "      <td>406.0</td>\n",
       "    </tr>\n",
       "    <tr>\n",
       "      <th>24097</th>\n",
       "      <td>24097</td>\n",
       "      <td>2017.0</td>\n",
       "      <td>Quincy Acy</td>\n",
       "      <td>PF</td>\n",
       "      <td>26.0</td>\n",
       "      <td>TOT</td>\n",
       "      <td>38.0</td>\n",
       "      <td>1.0</td>\n",
       "      <td>558.0</td>\n",
       "      <td>11.8</td>\n",
       "      <td>...</td>\n",
       "      <td>0.750</td>\n",
       "      <td>20.0</td>\n",
       "      <td>95.0</td>\n",
       "      <td>115.0</td>\n",
       "      <td>18.0</td>\n",
       "      <td>14.0</td>\n",
       "      <td>15.0</td>\n",
       "      <td>21.0</td>\n",
       "      <td>67.0</td>\n",
       "      <td>222.0</td>\n",
       "    </tr>\n",
       "    <tr>\n",
       "      <th>24100</th>\n",
       "      <td>24100</td>\n",
       "      <td>2017.0</td>\n",
       "      <td>Steven Adams</td>\n",
       "      <td>C</td>\n",
       "      <td>23.0</td>\n",
       "      <td>OKC</td>\n",
       "      <td>80.0</td>\n",
       "      <td>80.0</td>\n",
       "      <td>2389.0</td>\n",
       "      <td>16.5</td>\n",
       "      <td>...</td>\n",
       "      <td>0.611</td>\n",
       "      <td>282.0</td>\n",
       "      <td>333.0</td>\n",
       "      <td>615.0</td>\n",
       "      <td>86.0</td>\n",
       "      <td>88.0</td>\n",
       "      <td>78.0</td>\n",
       "      <td>146.0</td>\n",
       "      <td>195.0</td>\n",
       "      <td>905.0</td>\n",
       "    </tr>\n",
       "    <tr>\n",
       "      <th>24101</th>\n",
       "      <td>24101</td>\n",
       "      <td>2017.0</td>\n",
       "      <td>Arron Afflalo</td>\n",
       "      <td>SG</td>\n",
       "      <td>31.0</td>\n",
       "      <td>SAC</td>\n",
       "      <td>61.0</td>\n",
       "      <td>45.0</td>\n",
       "      <td>1580.0</td>\n",
       "      <td>9.0</td>\n",
       "      <td>...</td>\n",
       "      <td>0.892</td>\n",
       "      <td>9.0</td>\n",
       "      <td>116.0</td>\n",
       "      <td>125.0</td>\n",
       "      <td>78.0</td>\n",
       "      <td>21.0</td>\n",
       "      <td>7.0</td>\n",
       "      <td>42.0</td>\n",
       "      <td>104.0</td>\n",
       "      <td>515.0</td>\n",
       "    </tr>\n",
       "    <tr>\n",
       "      <th>24102</th>\n",
       "      <td>24102</td>\n",
       "      <td>2017.0</td>\n",
       "      <td>Alexis Ajinca</td>\n",
       "      <td>C</td>\n",
       "      <td>28.0</td>\n",
       "      <td>NOP</td>\n",
       "      <td>39.0</td>\n",
       "      <td>15.0</td>\n",
       "      <td>584.0</td>\n",
       "      <td>12.9</td>\n",
       "      <td>...</td>\n",
       "      <td>0.725</td>\n",
       "      <td>46.0</td>\n",
       "      <td>131.0</td>\n",
       "      <td>177.0</td>\n",
       "      <td>12.0</td>\n",
       "      <td>20.0</td>\n",
       "      <td>22.0</td>\n",
       "      <td>31.0</td>\n",
       "      <td>77.0</td>\n",
       "      <td>207.0</td>\n",
       "    </tr>\n",
       "  </tbody>\n",
       "</table>\n",
       "<p>5 rows × 53 columns</p>\n",
       "</div>"
      ],
      "text/plain": [
       "       Unnamed: 0    Year         Player Pos   Age   Tm     G    GS      MP  \\\n",
       "24096       24096  2017.0   Alex Abrines  SG  23.0  OKC  68.0   6.0  1055.0   \n",
       "24097       24097  2017.0     Quincy Acy  PF  26.0  TOT  38.0   1.0   558.0   \n",
       "24100       24100  2017.0   Steven Adams   C  23.0  OKC  80.0  80.0  2389.0   \n",
       "24101       24101  2017.0  Arron Afflalo  SG  31.0  SAC  61.0  45.0  1580.0   \n",
       "24102       24102  2017.0  Alexis Ajinca   C  28.0  NOP  39.0  15.0   584.0   \n",
       "\n",
       "        PER  ...    FT%    ORB    DRB    TRB   AST   STL   BLK    TOV     PF  \\\n",
       "24096  10.1  ...  0.898   18.0   68.0   86.0  40.0  37.0   8.0   33.0  114.0   \n",
       "24097  11.8  ...  0.750   20.0   95.0  115.0  18.0  14.0  15.0   21.0   67.0   \n",
       "24100  16.5  ...  0.611  282.0  333.0  615.0  86.0  88.0  78.0  146.0  195.0   \n",
       "24101   9.0  ...  0.892    9.0  116.0  125.0  78.0  21.0   7.0   42.0  104.0   \n",
       "24102  12.9  ...  0.725   46.0  131.0  177.0  12.0  20.0  22.0   31.0   77.0   \n",
       "\n",
       "         PTS  \n",
       "24096  406.0  \n",
       "24097  222.0  \n",
       "24100  905.0  \n",
       "24101  515.0  \n",
       "24102  207.0  \n",
       "\n",
       "[5 rows x 53 columns]"
      ]
     },
     "execution_count": 6,
     "metadata": {},
     "output_type": "execute_result"
    }
   ],
   "source": [
    "# Include only \"TOT\" for players who played for multiple teams\n",
    "tot_df = df.loc[df.Tm=='TOT']\n",
    "players2 = tot_df['Player']\n",
    "df.drop(tot_df.index + 1, axis=0, inplace=True)\n",
    "df.drop(tot_df.index + 2, axis=0, inplace=True)\n",
    "df.drop(24357, axis=0, inplace=True)\n",
    "df.head()"
   ]
  },
  {
   "cell_type": "markdown",
   "metadata": {
    "colab_type": "text",
    "id": "9TTuEGDsLo3N"
   },
   "source": [
    "We'll first select some initial features, likely more than will be used in the final model in order to give us some wiggle room. We have not included many metrics that attempt to quanitify a player's overall value to the team, such as value over replacement (VORP) or win shares, as these are quite unlikely to provide much about whether a player will score many points. Likewise, we have left out some defense focussed features.\n",
    "\n",
    "All features we selected:\n",
    "* Pos: position\n",
    "* Age: player age\n",
    "* Tm: team\n",
    "* G: games\n",
    "* MP: minutes played per game\n",
    "* PER: player efficiency rating\n",
    "* TS%: true shooting %\n",
    "* TRB%: total rebound %\n",
    "* STL%: steal %\n",
    "* TOV%: turnover %\n",
    "* FGA: field goal attempts per game\n",
    "* 3P: 3-point field goals\n",
    "* 3P%: 3-point field goal percentage\n",
    "* 2P: 2-point field goals\n",
    "* 2P%: 2-point field goal percentage\n",
    "* eFG%: effective field goal percentage\n",
    "* PTS: points per game\n"
   ]
  },
  {
   "cell_type": "code",
   "execution_count": 7,
   "metadata": {
    "colab": {
     "base_uri": "https://localhost:8080/",
     "height": 204
    },
    "colab_type": "code",
    "id": "1gF_DLtlQ7eA",
    "outputId": "f89d5b34-8680-4ab6-bd40-f6183c32a1ac"
   },
   "outputs": [
    {
     "data": {
      "text/html": [
       "<div>\n",
       "<style scoped>\n",
       "    .dataframe tbody tr th:only-of-type {\n",
       "        vertical-align: middle;\n",
       "    }\n",
       "\n",
       "    .dataframe tbody tr th {\n",
       "        vertical-align: top;\n",
       "    }\n",
       "\n",
       "    .dataframe thead th {\n",
       "        text-align: right;\n",
       "    }\n",
       "</style>\n",
       "<table border=\"1\" class=\"dataframe\">\n",
       "  <thead>\n",
       "    <tr style=\"text-align: right;\">\n",
       "      <th></th>\n",
       "      <th>Player</th>\n",
       "      <th>Pos</th>\n",
       "      <th>Age</th>\n",
       "      <th>G</th>\n",
       "      <th>MP</th>\n",
       "      <th>PER</th>\n",
       "      <th>TS%</th>\n",
       "      <th>TRB%</th>\n",
       "      <th>STL%</th>\n",
       "      <th>TOV%</th>\n",
       "      <th>FGA</th>\n",
       "      <th>3P</th>\n",
       "      <th>3PA</th>\n",
       "      <th>3P%</th>\n",
       "      <th>2P</th>\n",
       "      <th>2PA</th>\n",
       "      <th>2P%</th>\n",
       "      <th>eFG%</th>\n",
       "      <th>PTS</th>\n",
       "    </tr>\n",
       "  </thead>\n",
       "  <tbody>\n",
       "    <tr>\n",
       "      <th>24096</th>\n",
       "      <td>Alex Abrines</td>\n",
       "      <td>SG</td>\n",
       "      <td>23.0</td>\n",
       "      <td>68.0</td>\n",
       "      <td>15.514706</td>\n",
       "      <td>10.1</td>\n",
       "      <td>0.560</td>\n",
       "      <td>4.5</td>\n",
       "      <td>1.7</td>\n",
       "      <td>8.3</td>\n",
       "      <td>5.014706</td>\n",
       "      <td>94.0</td>\n",
       "      <td>247.0</td>\n",
       "      <td>0.381</td>\n",
       "      <td>40.0</td>\n",
       "      <td>94.0</td>\n",
       "      <td>0.426</td>\n",
       "      <td>0.531</td>\n",
       "      <td>5.970588</td>\n",
       "    </tr>\n",
       "    <tr>\n",
       "      <th>24097</th>\n",
       "      <td>Quincy Acy</td>\n",
       "      <td>PF</td>\n",
       "      <td>26.0</td>\n",
       "      <td>38.0</td>\n",
       "      <td>14.684211</td>\n",
       "      <td>11.8</td>\n",
       "      <td>0.565</td>\n",
       "      <td>11.0</td>\n",
       "      <td>1.2</td>\n",
       "      <td>9.7</td>\n",
       "      <td>4.473684</td>\n",
       "      <td>37.0</td>\n",
       "      <td>90.0</td>\n",
       "      <td>0.411</td>\n",
       "      <td>33.0</td>\n",
       "      <td>80.0</td>\n",
       "      <td>0.413</td>\n",
       "      <td>0.521</td>\n",
       "      <td>5.842105</td>\n",
       "    </tr>\n",
       "    <tr>\n",
       "      <th>24100</th>\n",
       "      <td>Steven Adams</td>\n",
       "      <td>C</td>\n",
       "      <td>23.0</td>\n",
       "      <td>80.0</td>\n",
       "      <td>29.862500</td>\n",
       "      <td>16.5</td>\n",
       "      <td>0.589</td>\n",
       "      <td>14.2</td>\n",
       "      <td>1.8</td>\n",
       "      <td>16.0</td>\n",
       "      <td>8.187500</td>\n",
       "      <td>0.0</td>\n",
       "      <td>1.0</td>\n",
       "      <td>0.000</td>\n",
       "      <td>374.0</td>\n",
       "      <td>654.0</td>\n",
       "      <td>0.572</td>\n",
       "      <td>0.571</td>\n",
       "      <td>11.312500</td>\n",
       "    </tr>\n",
       "    <tr>\n",
       "      <th>24101</th>\n",
       "      <td>Arron Afflalo</td>\n",
       "      <td>SG</td>\n",
       "      <td>31.0</td>\n",
       "      <td>61.0</td>\n",
       "      <td>25.901639</td>\n",
       "      <td>9.0</td>\n",
       "      <td>0.559</td>\n",
       "      <td>4.6</td>\n",
       "      <td>0.7</td>\n",
       "      <td>8.4</td>\n",
       "      <td>6.885246</td>\n",
       "      <td>62.0</td>\n",
       "      <td>151.0</td>\n",
       "      <td>0.411</td>\n",
       "      <td>123.0</td>\n",
       "      <td>269.0</td>\n",
       "      <td>0.457</td>\n",
       "      <td>0.514</td>\n",
       "      <td>8.442623</td>\n",
       "    </tr>\n",
       "    <tr>\n",
       "      <th>24102</th>\n",
       "      <td>Alexis Ajinca</td>\n",
       "      <td>C</td>\n",
       "      <td>28.0</td>\n",
       "      <td>39.0</td>\n",
       "      <td>14.974359</td>\n",
       "      <td>12.9</td>\n",
       "      <td>0.529</td>\n",
       "      <td>16.0</td>\n",
       "      <td>1.7</td>\n",
       "      <td>13.7</td>\n",
       "      <td>4.564103</td>\n",
       "      <td>0.0</td>\n",
       "      <td>4.0</td>\n",
       "      <td>0.000</td>\n",
       "      <td>89.0</td>\n",
       "      <td>174.0</td>\n",
       "      <td>0.511</td>\n",
       "      <td>0.500</td>\n",
       "      <td>5.307692</td>\n",
       "    </tr>\n",
       "  </tbody>\n",
       "</table>\n",
       "</div>"
      ],
      "text/plain": [
       "              Player Pos   Age     G         MP   PER    TS%  TRB%  STL%  \\\n",
       "24096   Alex Abrines  SG  23.0  68.0  15.514706  10.1  0.560   4.5   1.7   \n",
       "24097     Quincy Acy  PF  26.0  38.0  14.684211  11.8  0.565  11.0   1.2   \n",
       "24100   Steven Adams   C  23.0  80.0  29.862500  16.5  0.589  14.2   1.8   \n",
       "24101  Arron Afflalo  SG  31.0  61.0  25.901639   9.0  0.559   4.6   0.7   \n",
       "24102  Alexis Ajinca   C  28.0  39.0  14.974359  12.9  0.529  16.0   1.7   \n",
       "\n",
       "       TOV%       FGA    3P    3PA    3P%     2P    2PA    2P%   eFG%  \\\n",
       "24096   8.3  5.014706  94.0  247.0  0.381   40.0   94.0  0.426  0.531   \n",
       "24097   9.7  4.473684  37.0   90.0  0.411   33.0   80.0  0.413  0.521   \n",
       "24100  16.0  8.187500   0.0    1.0  0.000  374.0  654.0  0.572  0.571   \n",
       "24101   8.4  6.885246  62.0  151.0  0.411  123.0  269.0  0.457  0.514   \n",
       "24102  13.7  4.564103   0.0    4.0  0.000   89.0  174.0  0.511  0.500   \n",
       "\n",
       "             PTS  \n",
       "24096   5.970588  \n",
       "24097   5.842105  \n",
       "24100  11.312500  \n",
       "24101   8.442623  \n",
       "24102   5.307692  "
      ]
     },
     "execution_count": 7,
     "metadata": {},
     "output_type": "execute_result"
    }
   ],
   "source": [
    "\n",
    "features = ['Player', 'Pos', 'Age', 'G', 'MP', 'PER', 'TS%', 'TRB%', 'STL%', 'TOV%', 'FGA', '3P', '3PA', '3P%', '2P', '2PA', '2P%', 'eFG%', 'PTS']\n",
    "\n",
    "df = df[features]\n",
    "\n",
    "# Change minutes played, FG attempts, and points to be per game\n",
    "df['MP'] = df['MP'] / df['G']\n",
    "df['FGA'] = df['FGA'] / df['G']\n",
    "df['PTS'] = df['PTS'] / df['G']\n",
    "\n",
    "df.head()"
   ]
  },
  {
   "cell_type": "code",
   "execution_count": 8,
   "metadata": {
    "colab": {
     "base_uri": "https://localhost:8080/",
     "height": 459
    },
    "colab_type": "code",
    "id": "iK6VoSL5jWvD",
    "outputId": "aa11719d-ab25-4f60-f64f-95bf795abcd9"
   },
   "outputs": [
    {
     "name": "stdout",
     "output_type": "stream",
     "text": [
      "<class 'pandas.core.frame.DataFrame'>\n",
      "Int64Index: 488 entries, 24096 to 24690\n",
      "Data columns (total 19 columns):\n",
      " #   Column  Non-Null Count  Dtype  \n",
      "---  ------  --------------  -----  \n",
      " 0   Player  488 non-null    object \n",
      " 1   Pos     488 non-null    object \n",
      " 2   Age     488 non-null    float64\n",
      " 3   G       488 non-null    float64\n",
      " 4   MP      488 non-null    float64\n",
      " 5   PER     488 non-null    float64\n",
      " 6   TS%     487 non-null    float64\n",
      " 7   TRB%    488 non-null    float64\n",
      " 8   STL%    488 non-null    float64\n",
      " 9   TOV%    487 non-null    float64\n",
      " 10  FGA     488 non-null    float64\n",
      " 11  3P      488 non-null    float64\n",
      " 12  3PA     488 non-null    float64\n",
      " 13  3P%     452 non-null    float64\n",
      " 14  2P      488 non-null    float64\n",
      " 15  2PA     488 non-null    float64\n",
      " 16  2P%     486 non-null    float64\n",
      " 17  eFG%    487 non-null    float64\n",
      " 18  PTS     488 non-null    float64\n",
      "dtypes: float64(17), object(2)\n",
      "memory usage: 76.2+ KB\n"
     ]
    }
   ],
   "source": [
    "df.info()"
   ]
  },
  {
   "cell_type": "markdown",
   "metadata": {
    "colab_type": "text",
    "id": "8ZquFYizkPF4"
   },
   "source": [
    "Note that there are some missing values for 2 and 3-point percentages, despite no missing values for 2 and 3-point attempts or baskets made. After some snooping, it can be discovered that these NaN values are a result of a division by zero error. Since 2 and 3-point percentages are calculated by dividing attempts made by total attempts, if a player made no 3 point attempts, the resulting 3-point percentage is NaN. We don't want to simply drop all players that didn't make any 3-point attempts, because players like Boban Marjanovic (who took no 3-point attempts that season) are inarguably important for a team's scoring. To get around this, we can simply find which players had no 3-point attempts and give them 3-point percentage values of 0."
   ]
  },
  {
   "cell_type": "code",
   "execution_count": 9,
   "metadata": {
    "colab": {},
    "colab_type": "code",
    "id": "1yasjM6kkLtk"
   },
   "outputs": [],
   "source": [
    "df.loc[df['3PA'] == 0, '3P%'] = 0\n",
    "df.loc[df['2PA'] == 0, '2P%'] = 0"
   ]
  },
  {
   "cell_type": "code",
   "execution_count": 10,
   "metadata": {
    "colab": {
     "base_uri": "https://localhost:8080/",
     "height": 80
    },
    "colab_type": "code",
    "id": "6XsPAU8glgyo",
    "outputId": "29d19e33-7ec0-4ca9-dfc3-de9044b326b4"
   },
   "outputs": [
    {
     "data": {
      "text/html": [
       "<div>\n",
       "<style scoped>\n",
       "    .dataframe tbody tr th:only-of-type {\n",
       "        vertical-align: middle;\n",
       "    }\n",
       "\n",
       "    .dataframe tbody tr th {\n",
       "        vertical-align: top;\n",
       "    }\n",
       "\n",
       "    .dataframe thead th {\n",
       "        text-align: right;\n",
       "    }\n",
       "</style>\n",
       "<table border=\"1\" class=\"dataframe\">\n",
       "  <thead>\n",
       "    <tr style=\"text-align: right;\">\n",
       "      <th></th>\n",
       "      <th>Player</th>\n",
       "      <th>Pos</th>\n",
       "      <th>Age</th>\n",
       "      <th>G</th>\n",
       "      <th>MP</th>\n",
       "      <th>PER</th>\n",
       "      <th>TS%</th>\n",
       "      <th>TRB%</th>\n",
       "      <th>STL%</th>\n",
       "      <th>TOV%</th>\n",
       "      <th>FGA</th>\n",
       "      <th>3P</th>\n",
       "      <th>3PA</th>\n",
       "      <th>3P%</th>\n",
       "      <th>2P</th>\n",
       "      <th>2PA</th>\n",
       "      <th>2P%</th>\n",
       "      <th>eFG%</th>\n",
       "      <th>PTS</th>\n",
       "    </tr>\n",
       "  </thead>\n",
       "  <tbody>\n",
       "    <tr>\n",
       "      <th>24344</th>\n",
       "      <td>Danuel House</td>\n",
       "      <td>SG</td>\n",
       "      <td>23.0</td>\n",
       "      <td>1.0</td>\n",
       "      <td>1.0</td>\n",
       "      <td>12.2</td>\n",
       "      <td>NaN</td>\n",
       "      <td>56.4</td>\n",
       "      <td>0.0</td>\n",
       "      <td>NaN</td>\n",
       "      <td>0.0</td>\n",
       "      <td>0.0</td>\n",
       "      <td>0.0</td>\n",
       "      <td>0.0</td>\n",
       "      <td>0.0</td>\n",
       "      <td>0.0</td>\n",
       "      <td>0.0</td>\n",
       "      <td>NaN</td>\n",
       "      <td>0.0</td>\n",
       "    </tr>\n",
       "  </tbody>\n",
       "</table>\n",
       "</div>"
      ],
      "text/plain": [
       "             Player Pos   Age    G   MP   PER  TS%  TRB%  STL%  TOV%  FGA  \\\n",
       "24344  Danuel House  SG  23.0  1.0  1.0  12.2  NaN  56.4   0.0   NaN  0.0   \n",
       "\n",
       "        3P  3PA  3P%   2P  2PA  2P%  eFG%  PTS  \n",
       "24344  0.0  0.0  0.0  0.0  0.0  0.0   NaN  0.0  "
      ]
     },
     "execution_count": 10,
     "metadata": {},
     "output_type": "execute_result"
    }
   ],
   "source": [
    "df[df.isna().any(axis=1)]"
   ]
  },
  {
   "cell_type": "markdown",
   "metadata": {
    "colab_type": "text",
    "id": "7EaBbraWlosP"
   },
   "source": [
    "Quite remarkably, we now only have one player with missing data. Given the fact that Danuel House had barely any play time with no points, it's okay to drop him entirely from the dataset."
   ]
  },
  {
   "cell_type": "code",
   "execution_count": 11,
   "metadata": {
    "colab": {},
    "colab_type": "code",
    "id": "U-zqOSE1m-HQ"
   },
   "outputs": [],
   "source": [
    "df.drop([24344], inplace=True)"
   ]
  },
  {
   "cell_type": "code",
   "execution_count": 12,
   "metadata": {
    "colab": {
     "base_uri": "https://localhost:8080/",
     "height": 459
    },
    "colab_type": "code",
    "id": "9kauRPM3nLhi",
    "outputId": "2f6adaff-df28-446c-e816-e2e6e7332aa5"
   },
   "outputs": [
    {
     "name": "stdout",
     "output_type": "stream",
     "text": [
      "<class 'pandas.core.frame.DataFrame'>\n",
      "Int64Index: 487 entries, 24096 to 24690\n",
      "Data columns (total 19 columns):\n",
      " #   Column  Non-Null Count  Dtype  \n",
      "---  ------  --------------  -----  \n",
      " 0   Player  487 non-null    object \n",
      " 1   Pos     487 non-null    object \n",
      " 2   Age     487 non-null    float64\n",
      " 3   G       487 non-null    float64\n",
      " 4   MP      487 non-null    float64\n",
      " 5   PER     487 non-null    float64\n",
      " 6   TS%     487 non-null    float64\n",
      " 7   TRB%    487 non-null    float64\n",
      " 8   STL%    487 non-null    float64\n",
      " 9   TOV%    487 non-null    float64\n",
      " 10  FGA     487 non-null    float64\n",
      " 11  3P      487 non-null    float64\n",
      " 12  3PA     487 non-null    float64\n",
      " 13  3P%     487 non-null    float64\n",
      " 14  2P      487 non-null    float64\n",
      " 15  2PA     487 non-null    float64\n",
      " 16  2P%     487 non-null    float64\n",
      " 17  eFG%    487 non-null    float64\n",
      " 18  PTS     487 non-null    float64\n",
      "dtypes: float64(17), object(2)\n",
      "memory usage: 76.1+ KB\n"
     ]
    }
   ],
   "source": [
    "df.info()"
   ]
  },
  {
   "cell_type": "markdown",
   "metadata": {
    "colab_type": "text",
    "id": "TIz1CiIdpxZy"
   },
   "source": [
    "## Train/Test Splitting"
   ]
  },
  {
   "cell_type": "markdown",
   "metadata": {
    "colab_type": "text",
    "id": "CU-bnVONqTkQ"
   },
   "source": [
    "We will be employing cross-validation in order to tune hyperparameters in our models, thus eliminating the need for a separate validation set.\n",
    "\n",
    "As is common practice, we will use 80% of our data for training and the final 20% for testing. In order to manually obtain train and test sets, we'll shuffle the rows by sampling radomply without replacement, then take the first 390 (60%) players to form out training set, and the remaining 97 will form the test set."
   ]
  },
  {
   "cell_type": "code",
   "execution_count": 13,
   "metadata": {
    "colab": {},
    "colab_type": "code",
    "id": "IKLSpzXip0oh"
   },
   "outputs": [],
   "source": [
    "shuffled = df.sample(frac=1, replace=False, random_state=1)\n",
    "train_df = shuffled.iloc[np.arange(390)]\n",
    "test_df = shuffled.iloc[np.arange(390, 487)]"
   ]
  },
  {
   "cell_type": "code",
   "execution_count": 14,
   "metadata": {
    "colab": {
     "base_uri": "https://localhost:8080/",
     "height": 204
    },
    "colab_type": "code",
    "id": "d6qO1QKGsPAT",
    "outputId": "925d1865-43ff-4ac0-a6bd-89086a5d75a2"
   },
   "outputs": [
    {
     "data": {
      "text/html": [
       "<div>\n",
       "<style scoped>\n",
       "    .dataframe tbody tr th:only-of-type {\n",
       "        vertical-align: middle;\n",
       "    }\n",
       "\n",
       "    .dataframe tbody tr th {\n",
       "        vertical-align: top;\n",
       "    }\n",
       "\n",
       "    .dataframe thead th {\n",
       "        text-align: right;\n",
       "    }\n",
       "</style>\n",
       "<table border=\"1\" class=\"dataframe\">\n",
       "  <thead>\n",
       "    <tr style=\"text-align: right;\">\n",
       "      <th></th>\n",
       "      <th>Player</th>\n",
       "      <th>Pos</th>\n",
       "      <th>Age</th>\n",
       "      <th>G</th>\n",
       "      <th>MP</th>\n",
       "      <th>PER</th>\n",
       "      <th>TS%</th>\n",
       "      <th>TRB%</th>\n",
       "      <th>STL%</th>\n",
       "      <th>TOV%</th>\n",
       "      <th>FGA</th>\n",
       "      <th>3P</th>\n",
       "      <th>3PA</th>\n",
       "      <th>3P%</th>\n",
       "      <th>2P</th>\n",
       "      <th>2PA</th>\n",
       "      <th>2P%</th>\n",
       "      <th>eFG%</th>\n",
       "      <th>PTS</th>\n",
       "    </tr>\n",
       "  </thead>\n",
       "  <tbody>\n",
       "    <tr>\n",
       "      <th>24275</th>\n",
       "      <td>Rudy Gay</td>\n",
       "      <td>SF</td>\n",
       "      <td>30.0</td>\n",
       "      <td>30.0</td>\n",
       "      <td>33.766667</td>\n",
       "      <td>17.9</td>\n",
       "      <td>0.559</td>\n",
       "      <td>10.8</td>\n",
       "      <td>2.2</td>\n",
       "      <td>12.8</td>\n",
       "      <td>14.733333</td>\n",
       "      <td>42.0</td>\n",
       "      <td>113.0</td>\n",
       "      <td>0.372</td>\n",
       "      <td>159.0</td>\n",
       "      <td>329.0</td>\n",
       "      <td>0.483</td>\n",
       "      <td>0.502</td>\n",
       "      <td>18.733333</td>\n",
       "    </tr>\n",
       "    <tr>\n",
       "      <th>24265</th>\n",
       "      <td>Randy Foye</td>\n",
       "      <td>SG</td>\n",
       "      <td>33.0</td>\n",
       "      <td>69.0</td>\n",
       "      <td>18.608696</td>\n",
       "      <td>7.3</td>\n",
       "      <td>0.506</td>\n",
       "      <td>6.4</td>\n",
       "      <td>1.3</td>\n",
       "      <td>18.5</td>\n",
       "      <td>4.710145</td>\n",
       "      <td>67.0</td>\n",
       "      <td>203.0</td>\n",
       "      <td>0.330</td>\n",
       "      <td>51.0</td>\n",
       "      <td>122.0</td>\n",
       "      <td>0.418</td>\n",
       "      <td>0.466</td>\n",
       "      <td>5.173913</td>\n",
       "    </tr>\n",
       "    <tr>\n",
       "      <th>24298</th>\n",
       "      <td>Draymond Green</td>\n",
       "      <td>PF</td>\n",
       "      <td>26.0</td>\n",
       "      <td>76.0</td>\n",
       "      <td>32.513158</td>\n",
       "      <td>16.5</td>\n",
       "      <td>0.522</td>\n",
       "      <td>13.3</td>\n",
       "      <td>3.0</td>\n",
       "      <td>19.8</td>\n",
       "      <td>8.552632</td>\n",
       "      <td>81.0</td>\n",
       "      <td>263.0</td>\n",
       "      <td>0.308</td>\n",
       "      <td>191.0</td>\n",
       "      <td>387.0</td>\n",
       "      <td>0.494</td>\n",
       "      <td>0.481</td>\n",
       "      <td>10.210526</td>\n",
       "    </tr>\n",
       "    <tr>\n",
       "      <th>24592</th>\n",
       "      <td>Tony Snell</td>\n",
       "      <td>SG</td>\n",
       "      <td>25.0</td>\n",
       "      <td>80.0</td>\n",
       "      <td>29.200000</td>\n",
       "      <td>9.7</td>\n",
       "      <td>0.603</td>\n",
       "      <td>6.2</td>\n",
       "      <td>1.2</td>\n",
       "      <td>8.8</td>\n",
       "      <td>6.762500</td>\n",
       "      <td>144.0</td>\n",
       "      <td>355.0</td>\n",
       "      <td>0.406</td>\n",
       "      <td>102.0</td>\n",
       "      <td>186.0</td>\n",
       "      <td>0.548</td>\n",
       "      <td>0.588</td>\n",
       "      <td>8.537500</td>\n",
       "    </tr>\n",
       "    <tr>\n",
       "      <th>24341</th>\n",
       "      <td>Richaun Holmes</td>\n",
       "      <td>C</td>\n",
       "      <td>23.0</td>\n",
       "      <td>57.0</td>\n",
       "      <td>20.929825</td>\n",
       "      <td>18.6</td>\n",
       "      <td>0.611</td>\n",
       "      <td>14.4</td>\n",
       "      <td>1.7</td>\n",
       "      <td>10.7</td>\n",
       "      <td>7.228070</td>\n",
       "      <td>27.0</td>\n",
       "      <td>77.0</td>\n",
       "      <td>0.351</td>\n",
       "      <td>203.0</td>\n",
       "      <td>335.0</td>\n",
       "      <td>0.606</td>\n",
       "      <td>0.591</td>\n",
       "      <td>9.807018</td>\n",
       "    </tr>\n",
       "  </tbody>\n",
       "</table>\n",
       "</div>"
      ],
      "text/plain": [
       "               Player Pos   Age     G         MP   PER    TS%  TRB%  STL%  \\\n",
       "24275        Rudy Gay  SF  30.0  30.0  33.766667  17.9  0.559  10.8   2.2   \n",
       "24265      Randy Foye  SG  33.0  69.0  18.608696   7.3  0.506   6.4   1.3   \n",
       "24298  Draymond Green  PF  26.0  76.0  32.513158  16.5  0.522  13.3   3.0   \n",
       "24592      Tony Snell  SG  25.0  80.0  29.200000   9.7  0.603   6.2   1.2   \n",
       "24341  Richaun Holmes   C  23.0  57.0  20.929825  18.6  0.611  14.4   1.7   \n",
       "\n",
       "       TOV%        FGA     3P    3PA    3P%     2P    2PA    2P%   eFG%  \\\n",
       "24275  12.8  14.733333   42.0  113.0  0.372  159.0  329.0  0.483  0.502   \n",
       "24265  18.5   4.710145   67.0  203.0  0.330   51.0  122.0  0.418  0.466   \n",
       "24298  19.8   8.552632   81.0  263.0  0.308  191.0  387.0  0.494  0.481   \n",
       "24592   8.8   6.762500  144.0  355.0  0.406  102.0  186.0  0.548  0.588   \n",
       "24341  10.7   7.228070   27.0   77.0  0.351  203.0  335.0  0.606  0.591   \n",
       "\n",
       "             PTS  \n",
       "24275  18.733333  \n",
       "24265   5.173913  \n",
       "24298  10.210526  \n",
       "24592   8.537500  \n",
       "24341   9.807018  "
      ]
     },
     "execution_count": 14,
     "metadata": {},
     "output_type": "execute_result"
    }
   ],
   "source": [
    "train_df.head()"
   ]
  },
  {
   "cell_type": "code",
   "execution_count": 15,
   "metadata": {
    "colab": {
     "base_uri": "https://localhost:8080/",
     "height": 359
    },
    "colab_type": "code",
    "id": "3Z5VBNdqLPlK",
    "outputId": "cd99547f-4d5d-40c9-9dca-16145a2f90ea"
   },
   "outputs": [
    {
     "data": {
      "text/html": [
       "<div>\n",
       "<style scoped>\n",
       "    .dataframe tbody tr th:only-of-type {\n",
       "        vertical-align: middle;\n",
       "    }\n",
       "\n",
       "    .dataframe tbody tr th {\n",
       "        vertical-align: top;\n",
       "    }\n",
       "\n",
       "    .dataframe thead th {\n",
       "        text-align: right;\n",
       "    }\n",
       "</style>\n",
       "<table border=\"1\" class=\"dataframe\">\n",
       "  <thead>\n",
       "    <tr style=\"text-align: right;\">\n",
       "      <th></th>\n",
       "      <th>Player</th>\n",
       "      <th>Pos</th>\n",
       "      <th>Age</th>\n",
       "      <th>G</th>\n",
       "      <th>MP</th>\n",
       "      <th>PER</th>\n",
       "      <th>TS%</th>\n",
       "      <th>TRB%</th>\n",
       "      <th>STL%</th>\n",
       "      <th>TOV%</th>\n",
       "      <th>FGA</th>\n",
       "      <th>3P</th>\n",
       "      <th>3PA</th>\n",
       "      <th>3P%</th>\n",
       "      <th>2P</th>\n",
       "      <th>2PA</th>\n",
       "      <th>2P%</th>\n",
       "      <th>eFG%</th>\n",
       "      <th>PTS</th>\n",
       "    </tr>\n",
       "  </thead>\n",
       "  <tbody>\n",
       "    <tr>\n",
       "      <th>24654</th>\n",
       "      <td>Russell Westbrook</td>\n",
       "      <td>PG</td>\n",
       "      <td>28.0</td>\n",
       "      <td>81.0</td>\n",
       "      <td>34.592593</td>\n",
       "      <td>30.6</td>\n",
       "      <td>0.554</td>\n",
       "      <td>17.1</td>\n",
       "      <td>2.3</td>\n",
       "      <td>15.9</td>\n",
       "      <td>23.962963</td>\n",
       "      <td>200.0</td>\n",
       "      <td>583.0</td>\n",
       "      <td>0.343</td>\n",
       "      <td>624.0</td>\n",
       "      <td>1358.0</td>\n",
       "      <td>0.459</td>\n",
       "      <td>0.476</td>\n",
       "      <td>31.580247</td>\n",
       "    </tr>\n",
       "    <tr>\n",
       "      <th>24306</th>\n",
       "      <td>James Harden</td>\n",
       "      <td>PG</td>\n",
       "      <td>27.0</td>\n",
       "      <td>81.0</td>\n",
       "      <td>36.382716</td>\n",
       "      <td>27.3</td>\n",
       "      <td>0.613</td>\n",
       "      <td>12.2</td>\n",
       "      <td>2.0</td>\n",
       "      <td>19.5</td>\n",
       "      <td>18.925926</td>\n",
       "      <td>262.0</td>\n",
       "      <td>756.0</td>\n",
       "      <td>0.347</td>\n",
       "      <td>412.0</td>\n",
       "      <td>777.0</td>\n",
       "      <td>0.530</td>\n",
       "      <td>0.525</td>\n",
       "      <td>29.086420</td>\n",
       "    </tr>\n",
       "    <tr>\n",
       "      <th>24612</th>\n",
       "      <td>Isaiah Thomas</td>\n",
       "      <td>PG</td>\n",
       "      <td>27.0</td>\n",
       "      <td>76.0</td>\n",
       "      <td>33.802632</td>\n",
       "      <td>26.5</td>\n",
       "      <td>0.625</td>\n",
       "      <td>4.4</td>\n",
       "      <td>1.4</td>\n",
       "      <td>10.7</td>\n",
       "      <td>19.381579</td>\n",
       "      <td>245.0</td>\n",
       "      <td>646.0</td>\n",
       "      <td>0.379</td>\n",
       "      <td>437.0</td>\n",
       "      <td>827.0</td>\n",
       "      <td>0.528</td>\n",
       "      <td>0.546</td>\n",
       "      <td>28.934211</td>\n",
       "    </tr>\n",
       "    <tr>\n",
       "      <th>24218</th>\n",
       "      <td>Anthony Davis</td>\n",
       "      <td>C</td>\n",
       "      <td>23.0</td>\n",
       "      <td>75.0</td>\n",
       "      <td>36.106667</td>\n",
       "      <td>27.5</td>\n",
       "      <td>0.579</td>\n",
       "      <td>17.3</td>\n",
       "      <td>1.7</td>\n",
       "      <td>9.1</td>\n",
       "      <td>20.360000</td>\n",
       "      <td>40.0</td>\n",
       "      <td>134.0</td>\n",
       "      <td>0.299</td>\n",
       "      <td>730.0</td>\n",
       "      <td>1393.0</td>\n",
       "      <td>0.524</td>\n",
       "      <td>0.517</td>\n",
       "      <td>27.986667</td>\n",
       "    </tr>\n",
       "    <tr>\n",
       "      <th>24226</th>\n",
       "      <td>DeMar DeRozan</td>\n",
       "      <td>SG</td>\n",
       "      <td>27.0</td>\n",
       "      <td>74.0</td>\n",
       "      <td>35.405405</td>\n",
       "      <td>24.0</td>\n",
       "      <td>0.552</td>\n",
       "      <td>8.3</td>\n",
       "      <td>1.5</td>\n",
       "      <td>9.0</td>\n",
       "      <td>20.878378</td>\n",
       "      <td>33.0</td>\n",
       "      <td>124.0</td>\n",
       "      <td>0.266</td>\n",
       "      <td>688.0</td>\n",
       "      <td>1421.0</td>\n",
       "      <td>0.484</td>\n",
       "      <td>0.477</td>\n",
       "      <td>27.297297</td>\n",
       "    </tr>\n",
       "    <tr>\n",
       "      <th>24206</th>\n",
       "      <td>DeMarcus Cousins</td>\n",
       "      <td>C</td>\n",
       "      <td>26.0</td>\n",
       "      <td>72.0</td>\n",
       "      <td>34.236111</td>\n",
       "      <td>25.7</td>\n",
       "      <td>0.562</td>\n",
       "      <td>18.2</td>\n",
       "      <td>2.0</td>\n",
       "      <td>13.5</td>\n",
       "      <td>19.902778</td>\n",
       "      <td>131.0</td>\n",
       "      <td>364.0</td>\n",
       "      <td>0.360</td>\n",
       "      <td>516.0</td>\n",
       "      <td>1069.0</td>\n",
       "      <td>0.483</td>\n",
       "      <td>0.497</td>\n",
       "      <td>26.972222</td>\n",
       "    </tr>\n",
       "    <tr>\n",
       "      <th>24365</th>\n",
       "      <td>LeBron James</td>\n",
       "      <td>SF</td>\n",
       "      <td>32.0</td>\n",
       "      <td>74.0</td>\n",
       "      <td>37.756757</td>\n",
       "      <td>27.0</td>\n",
       "      <td>0.619</td>\n",
       "      <td>12.6</td>\n",
       "      <td>1.6</td>\n",
       "      <td>16.1</td>\n",
       "      <td>18.162162</td>\n",
       "      <td>124.0</td>\n",
       "      <td>342.0</td>\n",
       "      <td>0.363</td>\n",
       "      <td>612.0</td>\n",
       "      <td>1002.0</td>\n",
       "      <td>0.611</td>\n",
       "      <td>0.594</td>\n",
       "      <td>26.405405</td>\n",
       "    </tr>\n",
       "    <tr>\n",
       "      <th>24414</th>\n",
       "      <td>Kawhi Leonard</td>\n",
       "      <td>SF</td>\n",
       "      <td>25.0</td>\n",
       "      <td>74.0</td>\n",
       "      <td>33.432432</td>\n",
       "      <td>27.5</td>\n",
       "      <td>0.611</td>\n",
       "      <td>9.8</td>\n",
       "      <td>2.7</td>\n",
       "      <td>9.1</td>\n",
       "      <td>17.716216</td>\n",
       "      <td>147.0</td>\n",
       "      <td>386.0</td>\n",
       "      <td>0.381</td>\n",
       "      <td>489.0</td>\n",
       "      <td>925.0</td>\n",
       "      <td>0.529</td>\n",
       "      <td>0.541</td>\n",
       "      <td>25.513514</td>\n",
       "    </tr>\n",
       "    <tr>\n",
       "      <th>24216</th>\n",
       "      <td>Stephen Curry</td>\n",
       "      <td>PG</td>\n",
       "      <td>28.0</td>\n",
       "      <td>79.0</td>\n",
       "      <td>33.392405</td>\n",
       "      <td>24.6</td>\n",
       "      <td>0.624</td>\n",
       "      <td>7.3</td>\n",
       "      <td>2.6</td>\n",
       "      <td>13.0</td>\n",
       "      <td>18.265823</td>\n",
       "      <td>324.0</td>\n",
       "      <td>789.0</td>\n",
       "      <td>0.411</td>\n",
       "      <td>351.0</td>\n",
       "      <td>654.0</td>\n",
       "      <td>0.537</td>\n",
       "      <td>0.580</td>\n",
       "      <td>25.303797</td>\n",
       "    </tr>\n",
       "    <tr>\n",
       "      <th>24360</th>\n",
       "      <td>Kyrie Irving</td>\n",
       "      <td>PG</td>\n",
       "      <td>24.0</td>\n",
       "      <td>72.0</td>\n",
       "      <td>35.069444</td>\n",
       "      <td>23.0</td>\n",
       "      <td>0.580</td>\n",
       "      <td>5.0</td>\n",
       "      <td>1.6</td>\n",
       "      <td>10.3</td>\n",
       "      <td>19.722222</td>\n",
       "      <td>177.0</td>\n",
       "      <td>441.0</td>\n",
       "      <td>0.401</td>\n",
       "      <td>494.0</td>\n",
       "      <td>979.0</td>\n",
       "      <td>0.505</td>\n",
       "      <td>0.535</td>\n",
       "      <td>25.222222</td>\n",
       "    </tr>\n",
       "  </tbody>\n",
       "</table>\n",
       "</div>"
      ],
      "text/plain": [
       "                  Player Pos   Age     G         MP   PER    TS%  TRB%  STL%  \\\n",
       "24654  Russell Westbrook  PG  28.0  81.0  34.592593  30.6  0.554  17.1   2.3   \n",
       "24306       James Harden  PG  27.0  81.0  36.382716  27.3  0.613  12.2   2.0   \n",
       "24612      Isaiah Thomas  PG  27.0  76.0  33.802632  26.5  0.625   4.4   1.4   \n",
       "24218      Anthony Davis   C  23.0  75.0  36.106667  27.5  0.579  17.3   1.7   \n",
       "24226      DeMar DeRozan  SG  27.0  74.0  35.405405  24.0  0.552   8.3   1.5   \n",
       "24206   DeMarcus Cousins   C  26.0  72.0  34.236111  25.7  0.562  18.2   2.0   \n",
       "24365       LeBron James  SF  32.0  74.0  37.756757  27.0  0.619  12.6   1.6   \n",
       "24414      Kawhi Leonard  SF  25.0  74.0  33.432432  27.5  0.611   9.8   2.7   \n",
       "24216      Stephen Curry  PG  28.0  79.0  33.392405  24.6  0.624   7.3   2.6   \n",
       "24360       Kyrie Irving  PG  24.0  72.0  35.069444  23.0  0.580   5.0   1.6   \n",
       "\n",
       "       TOV%        FGA     3P    3PA    3P%     2P     2PA    2P%   eFG%  \\\n",
       "24654  15.9  23.962963  200.0  583.0  0.343  624.0  1358.0  0.459  0.476   \n",
       "24306  19.5  18.925926  262.0  756.0  0.347  412.0   777.0  0.530  0.525   \n",
       "24612  10.7  19.381579  245.0  646.0  0.379  437.0   827.0  0.528  0.546   \n",
       "24218   9.1  20.360000   40.0  134.0  0.299  730.0  1393.0  0.524  0.517   \n",
       "24226   9.0  20.878378   33.0  124.0  0.266  688.0  1421.0  0.484  0.477   \n",
       "24206  13.5  19.902778  131.0  364.0  0.360  516.0  1069.0  0.483  0.497   \n",
       "24365  16.1  18.162162  124.0  342.0  0.363  612.0  1002.0  0.611  0.594   \n",
       "24414   9.1  17.716216  147.0  386.0  0.381  489.0   925.0  0.529  0.541   \n",
       "24216  13.0  18.265823  324.0  789.0  0.411  351.0   654.0  0.537  0.580   \n",
       "24360  10.3  19.722222  177.0  441.0  0.401  494.0   979.0  0.505  0.535   \n",
       "\n",
       "             PTS  \n",
       "24654  31.580247  \n",
       "24306  29.086420  \n",
       "24612  28.934211  \n",
       "24218  27.986667  \n",
       "24226  27.297297  \n",
       "24206  26.972222  \n",
       "24365  26.405405  \n",
       "24414  25.513514  \n",
       "24216  25.303797  \n",
       "24360  25.222222  "
      ]
     },
     "execution_count": 15,
     "metadata": {},
     "output_type": "execute_result"
    }
   ],
   "source": [
    "# Top ten players by PPG\n",
    "train_df.sort_values(by=['PTS'], ascending=False).head(10)"
   ]
  },
  {
   "cell_type": "code",
   "execution_count": 68,
   "metadata": {},
   "outputs": [
    {
     "name": "stdout",
     "output_type": "stream",
     "text": [
      "Average PPG among all players:  8.58896397704793\n",
      "Average PPG for those who had more than 5 PPG:  11.35300158956498\n"
     ]
    }
   ],
   "source": [
    "# Average PPG among all players\n",
    "ppg_all = np.average(train_df['PTS'])\n",
    "\n",
    "# Average PPG for those who had more than 5 PPG\n",
    "ppg_plus5 = np.average(train_df[train_df.PTS > 5].PTS)\n",
    "\n",
    "print('Average PPG among all players: ', ppg_all)\n",
    "print('Average PPG for those who had more than 5 PPG: ', ppg_plus5)"
   ]
  },
  {
   "cell_type": "code",
   "execution_count": 16,
   "metadata": {
    "colab": {
     "base_uri": "https://localhost:8080/",
     "height": 301
    },
    "colab_type": "code",
    "id": "1cNRlaPSLZ3K",
    "outputId": "8c77b776-aeaf-40e6-d1c2-f6291a3f44c6"
   },
   "outputs": [
    {
     "data": {
      "image/png": "[encoded data removed]",
      "text/plain": [
       "<Figure size 432x288 with 1 Axes>"
      ]
     },
     "metadata": {
      "needs_background": "light"
     },
     "output_type": "display_data"
    }
   ],
   "source": [
    "# Distribution of points\n",
    "plt.hist(train_df['PTS'], bins=15)\n",
    "plt.title('Distribution of Points')\n",
    "plt.xlabel('PPG')\n",
    "plt.show()"
   ]
  },
  {
   "cell_type": "code",
   "execution_count": 17,
   "metadata": {
    "colab": {
     "base_uri": "https://localhost:8080/",
     "height": 301
    },
    "colab_type": "code",
    "id": "PCp6pWNIMpZ6",
    "outputId": "bb5ceb10-70f0-4cb4-b02d-8b0338da48d3"
   },
   "outputs": [
    {
     "data": {
      "image/png": "[encoded data removed]",
      "text/plain": [
       "<Figure size 432x288 with 1 Axes>"
      ]
     },
     "metadata": {
      "needs_background": "light"
     },
     "output_type": "display_data"
    }
   ],
   "source": [
    "# Comparing PPG for players over & under 30\n",
    "under_30 = train_df.loc[train_df.Age < 30].PTS\n",
    "over_30 = train_df.loc[train_df.Age >= 30].PTS\n",
    "\n",
    "plt.hist(x=under_30, alpha=0.35, label='Under 30')\n",
    "plt.hist(x=over_30, alpha=0.35, label='Over 30')\n",
    "plt.legend()\n",
    "plt.xlabel('PPG')\n",
    "plt.title('Points By Age')\n",
    "plt.show() "
   ]
  },
  {
   "cell_type": "markdown",
   "metadata": {
    "colab_type": "text",
    "id": "zJesXJ8-Ruuf"
   },
   "source": [
    "Since the PTS distribution for players under 30 and over 30 follow the same pattern there no need to examine them differently"
   ]
  },
  {
   "cell_type": "code",
   "execution_count": 18,
   "metadata": {
    "colab": {
     "base_uri": "https://localhost:8080/",
     "height": 301
    },
    "colab_type": "code",
    "id": "8r-58jE0OWC1",
    "outputId": "10205deb-20fe-46fc-c2c2-0fd70a38e991"
   },
   "outputs": [
    {
     "data": {
      "image/png": "[encoded data removed]",
      "text/plain": [
       "<Figure size 432x288 with 1 Axes>"
      ]
     },
     "metadata": {
      "needs_background": "light"
     },
     "output_type": "display_data"
    }
   ],
   "source": [
    "# Average points by position \n",
    "grouped_position = train_df[['Pos', 'PTS']].groupby(by=['Pos']).mean()\n",
    "\n",
    "plt.bar(grouped_position.index, height=grouped_position.PTS)\n",
    "plt.xlabel('Position')\n",
    "plt.ylabel('Avg. PPG')\n",
    "plt.title('Points By Position')\n",
    "plt.yticks(np.arange(0, 11))\n",
    "plt.show()"
   ]
  },
  {
   "cell_type": "code",
   "execution_count": 19,
   "metadata": {
    "colab": {
     "base_uri": "https://localhost:8080/",
     "height": 1000
    },
    "colab_type": "code",
    "id": "It9MeHdydee3",
    "outputId": "614da390-37db-46a9-f50d-43828989341f"
   },
   "outputs": [
    {
     "data": {
      "image/png": "[encoded data removed]",
      "text/plain": [
       "<Figure size 1440x1440 with 2 Axes>"
      ]
     },
     "metadata": {
      "needs_background": "light"
     },
     "output_type": "display_data"
    }
   ],
   "source": [
    "plt.figure(figsize=(20, 20))\n",
    "sns.heatmap(train_df.corr(), annot=True, center=0, cmap=\"RdBu\")\n",
    "plt.show()"
   ]
  },
  {
   "cell_type": "code",
   "execution_count": 20,
   "metadata": {
    "colab": {
     "base_uri": "https://localhost:8080/",
     "height": 302
    },
    "colab_type": "code",
    "id": "u7j80N53S-A9",
    "outputId": "cfb0b45a-5fc6-40b2-c7e3-715a5f664b87"
   },
   "outputs": [
    {
     "name": "stdout",
     "output_type": "stream",
     "text": [
      "R-squared: 0.7667192657378217\n"
     ]
    },
    {
     "data": {
      "image/png": "[encoded data removed]",
      "text/plain": [
       "<Figure size 432x288 with 1 Axes>"
      ]
     },
     "metadata": {
      "needs_background": "light"
     },
     "output_type": "display_data"
    }
   ],
   "source": [
    "\n",
    "\n",
    "\n",
    "# scatter plots of points per game against minutes played per game\n",
    "plt.scatter(train_df[\"MP\"],train_df[\"PTS\"])\n",
    "plt.xlabel(\"Minutes played per game\")\n",
    "plt.ylabel(\"Points per game\")\n",
    "Linear_model = LinearRegression()\n",
    "Linear_model.fit(train_df[[\"MP\"]], train_df[[\"PTS\"]])\n",
    "mp_predict = Linear_model.predict(train_df[[\"MP\"]])\n",
    "plt.plot(train_df[\"MP\"], mp_predict, color=\"r\")\n",
    "print('R-squared:', Linear_model.score(train_df[[\"MP\"]], train_df[[\"PTS\"]])) # R-squared value"
   ]
  },
  {
   "cell_type": "code",
   "execution_count": 21,
   "metadata": {
    "colab": {
     "base_uri": "https://localhost:8080/",
     "height": 302
    },
    "colab_type": "code",
    "id": "Nb0yHDNbf-DA",
    "outputId": "091cc210-64ef-4c55-b664-c524f4a508ef"
   },
   "outputs": [
    {
     "name": "stdout",
     "output_type": "stream",
     "text": [
      "R-squared: 0.5179211452749585\n"
     ]
    },
    {
     "data": {
      "image/png": "[encoded data removed]",
      "text/plain": [
       "<Figure size 432x288 with 1 Axes>"
      ]
     },
     "metadata": {
      "needs_background": "light"
     },
     "output_type": "display_data"
    }
   ],
   "source": [
    "# scatter plots of points per game against PER\n",
    "plt.scatter(train_df[\"PER\"], train_df[\"PTS\"])\n",
    "plt.xlabel(\"PER\")\n",
    "plt.ylabel(\"Points per game\")\n",
    "Linear_model.fit(train_df[[\"PER\"]], train_df[[\"PTS\"]])\n",
    "per_predict = Linear_model.predict(train_df[[\"PER\"]])\n",
    "plt.plot(train_df[\"PER\"], per_predict, color=\"r\")\n",
    "print('R-squared:', Linear_model.score(train_df[[\"PER\"]], train_df[[\"PTS\"]])) # R-squared value"
   ]
  },
  {
   "cell_type": "code",
   "execution_count": 22,
   "metadata": {
    "colab": {
     "base_uri": "https://localhost:8080/",
     "height": 302
    },
    "colab_type": "code",
    "id": "ibzDay3Y7xj9",
    "outputId": "30f11f60-6993-4da7-ddc9-6aa4278b49a4"
   },
   "outputs": [
    {
     "name": "stdout",
     "output_type": "stream",
     "text": [
      "R-squared: 0.15565307811049378\n"
     ]
    },
    {
     "data": {
      "image/png": "[encoded data removed]",
      "text/plain": [
       "<Figure size 432x288 with 1 Axes>"
      ]
     },
     "metadata": {
      "needs_background": "light"
     },
     "output_type": "display_data"
    }
   ],
   "source": [
    "\n",
    "# scatter plots of points per game against TS%\n",
    "plt.scatter(train_df[\"TS%\"], train_df[\"PTS\"])\n",
    "plt.xlabel(\"TS%\")\n",
    "plt.ylabel(\"Points per game\")\n",
    "Linear_model.fit(train_df[[\"TS%\"]], train_df[[\"PTS\"]])\n",
    "ts_predict = Linear_model.predict(train_df[[\"TS%\"]])\n",
    "plt.plot(train_df[\"TS%\"], ts_predict, color=\"r\")\n",
    "print('R-squared:', Linear_model.score(train_df[[\"TS%\"]], train_df[[\"PTS\"]])) # R-squared value"
   ]
  },
  {
   "cell_type": "code",
   "execution_count": 23,
   "metadata": {
    "colab": {
     "base_uri": "https://localhost:8080/",
     "height": 302
    },
    "colab_type": "code",
    "id": "OzaGrGDy9POM",
    "outputId": "d5468d16-30d5-474e-989c-fa2b0a47a099"
   },
   "outputs": [
    {
     "name": "stdout",
     "output_type": "stream",
     "text": [
      "R-squared: 0.0005915311575651616\n"
     ]
    },
    {
     "data": {
      "image/png": "[encoded data removed]",
      "text/plain": [
       "<Figure size 432x288 with 1 Axes>"
      ]
     },
     "metadata": {
      "needs_background": "light"
     },
     "output_type": "display_data"
    }
   ],
   "source": [
    "# scatter plots of points per game against TRB%\n",
    "plt.scatter(train_df[\"TRB%\"], train_df[\"PTS\"])\n",
    "plt.xlabel(\"TRB%\")\n",
    "plt.ylabel(\"Points per game\")\n",
    "Linear_model.fit(train_df[[\"TRB%\"]], train_df[[\"PTS\"]])\n",
    "trb_predict = Linear_model.predict(train_df[[\"TRB%\"]])\n",
    "plt.plot(train_df[\"TRB%\"], trb_predict, color=\"r\")\n",
    "print('R-squared:', Linear_model.score(train_df[[\"TRB%\"]], train_df[[\"PTS\"]])) # R-squared value"
   ]
  },
  {
   "cell_type": "code",
   "execution_count": 24,
   "metadata": {
    "colab": {
     "base_uri": "https://localhost:8080/",
     "height": 302
    },
    "colab_type": "code",
    "id": "MogPGYip9Zr3",
    "outputId": "43fc542f-a196-4485-93a8-8ed5a2cf284a"
   },
   "outputs": [
    {
     "name": "stdout",
     "output_type": "stream",
     "text": [
      "R-squared: 0.004062778429081426\n"
     ]
    },
    {
     "data": {
      "image/png": "[encoded data removed]",
      "text/plain": [
       "<Figure size 432x288 with 1 Axes>"
      ]
     },
     "metadata": {
      "needs_background": "light"
     },
     "output_type": "display_data"
    }
   ],
   "source": [
    "# scatter plots of points per game against STL%\n",
    "plt.scatter(train_df[\"STL%\"], train_df[\"PTS\"])\n",
    "plt.xlabel(\"STL%\")\n",
    "plt.ylabel(\"Points per game\")\n",
    "Linear_model.fit(train_df[[\"STL%\"]], train_df[[\"PTS\"]])\n",
    "stl_predict = Linear_model.predict(train_df[[\"STL%\"]])\n",
    "plt.plot(train_df[\"STL%\"], stl_predict, color=\"r\")\n",
    "print('R-squared:', Linear_model.score(train_df[[\"STL%\"]], train_df[[\"PTS\"]])) # R-squared value"
   ]
  },
  {
   "cell_type": "code",
   "execution_count": 25,
   "metadata": {
    "colab": {
     "base_uri": "https://localhost:8080/",
     "height": 302
    },
    "colab_type": "code",
    "id": "hvmNkiPk-fqF",
    "outputId": "794671ec-e02e-4c42-a670-663e6c6efc5e"
   },
   "outputs": [
    {
     "name": "stdout",
     "output_type": "stream",
     "text": [
      "R-squared: 0.015061990476007536\n"
     ]
    },
    {
     "data": {
      "image/png": "[encoded data removed]",
      "text/plain": [
       "<Figure size 432x288 with 1 Axes>"
      ]
     },
     "metadata": {
      "needs_background": "light"
     },
     "output_type": "display_data"
    }
   ],
   "source": [
    "# scatter plots of points per game against TOV%\n",
    "plt.scatter(train_df[\"TOV%\"], train_df[\"PTS\"])\n",
    "plt.xlabel(\"TOV%\")\n",
    "plt.ylabel(\"Points per game\")\n",
    "Linear_model.fit(train_df[[\"TOV%\"]], train_df[[\"PTS\"]])\n",
    "tov_predict = Linear_model.predict(train_df[[\"TOV%\"]])\n",
    "plt.plot(train_df[\"TOV%\"], tov_predict, color=\"r\")\n",
    "print('R-squared:', Linear_model.score(train_df[[\"TOV%\"]], train_df[[\"PTS\"]])) # R-squared value"
   ]
  },
  {
   "cell_type": "code",
   "execution_count": 26,
   "metadata": {
    "colab": {
     "base_uri": "https://localhost:8080/",
     "height": 302
    },
    "colab_type": "code",
    "id": "8c42R8k-_E7k",
    "outputId": "50293535-1c49-4c6f-d5c6-d72d69a7cbc2"
   },
   "outputs": [
    {
     "name": "stdout",
     "output_type": "stream",
     "text": [
      "R-squared: 0.9706213056177363\n"
     ]
    },
    {
     "data": {
      "image/png": "[encoded data removed]",
      "text/plain": [
       "<Figure size 432x288 with 1 Axes>"
      ]
     },
     "metadata": {
      "needs_background": "light"
     },
     "output_type": "display_data"
    }
   ],
   "source": [
    "\n",
    "# scatter plots of points per game against FGA\n",
    "plt.scatter(train_df[\"FGA\"], train_df[\"PTS\"])\n",
    "plt.xlabel(\"FGA\")\n",
    "plt.ylabel(\"Points per game\")\n",
    "Linear_model.fit(train_df[[\"FGA\"]], train_df[[\"PTS\"]])\n",
    "fga_predict = Linear_model.predict(train_df[[\"FGA\"]])\n",
    "plt.plot(train_df[\"FGA\"], fga_predict, color=\"r\")\n",
    "print('R-squared:', Linear_model.score(train_df[[\"FGA\"]], train_df[[\"PTS\"]])) # R-squared value"
   ]
  },
  {
   "cell_type": "code",
   "execution_count": 27,
   "metadata": {
    "colab": {
     "base_uri": "https://localhost:8080/",
     "height": 302
    },
    "colab_type": "code",
    "id": "c_M88FPP_R8q",
    "outputId": "312c4b94-340f-4367-9b1a-49b54dc7f802"
   },
   "outputs": [
    {
     "name": "stdout",
     "output_type": "stream",
     "text": [
      "R-squared: 0.11897836939624407\n"
     ]
    },
    {
     "data": {
      "image/png": "[encoded data removed]",
      "text/plain": [
       "<Figure size 432x288 with 1 Axes>"
      ]
     },
     "metadata": {
      "needs_background": "light"
     },
     "output_type": "display_data"
    }
   ],
   "source": [
    "# scatter plots of points per game against 3P%\n",
    "plt.scatter(train_df[\"3P%\"], train_df[\"PTS\"])\n",
    "plt.xlabel(\"3P%\")\n",
    "plt.ylabel(\"Points per game\")\n",
    "Linear_model.fit(train_df[[\"3P%\"]], train_df[[\"PTS\"]])\n",
    "threep_predict = Linear_model.predict(train_df[[\"3P%\"]])\n",
    "plt.plot(train_df[\"3P%\"], threep_predict, color=\"r\")\n",
    "print('R-squared:', Linear_model.score(train_df[[\"3P%\"]], train_df[[\"PTS\"]])) # R-squared value"
   ]
  },
  {
   "cell_type": "code",
   "execution_count": 28,
   "metadata": {
    "colab": {
     "base_uri": "https://localhost:8080/",
     "height": 302
    },
    "colab_type": "code",
    "id": "-cszgA2e_bIe",
    "outputId": "1e858bc9-93ef-4960-c245-e404446829a3"
   },
   "outputs": [
    {
     "name": "stdout",
     "output_type": "stream",
     "text": [
      "R-squared: 0.038932805457997044\n"
     ]
    },
    {
     "data": {
      "image/png": "[encoded data removed]",
      "text/plain": [
       "<Figure size 432x288 with 1 Axes>"
      ]
     },
     "metadata": {
      "needs_background": "light"
     },
     "output_type": "display_data"
    }
   ],
   "source": [
    "# scatter plots of points per game against 2P%\n",
    "plt.scatter(train_df[\"2P%\"], train_df[\"PTS\"])\n",
    "plt.xlabel(\"2P%\")\n",
    "plt.ylabel(\"Points per game\")\n",
    "Linear_model.fit(train_df[[\"2P%\"]], train_df[[\"PTS\"]])\n",
    "twop_predict = Linear_model.predict(train_df[[\"2P%\"]])\n",
    "plt.plot(train_df[\"2P%\"], twop_predict, color=\"r\")\n",
    "print('R-squared:', Linear_model.score(train_df[[\"2P%\"]], train_df[[\"PTS\"]])) # R-squared value"
   ]
  },
  {
   "cell_type": "code",
   "execution_count": 29,
   "metadata": {
    "colab": {
     "base_uri": "https://localhost:8080/",
     "height": 302
    },
    "colab_type": "code",
    "id": "997LiJaG_ixG",
    "outputId": "68b8d7de-0b90-4c62-f921-fb2b866961dc"
   },
   "outputs": [
    {
     "name": "stdout",
     "output_type": "stream",
     "text": [
      "R-squared: 0.08354007281772402\n"
     ]
    },
    {
     "data": {
      "image/png": "[encoded data removed]",
      "text/plain": [
       "<Figure size 432x288 with 1 Axes>"
      ]
     },
     "metadata": {
      "needs_background": "light"
     },
     "output_type": "display_data"
    }
   ],
   "source": [
    "# scatter plots of points per game against eFG%\n",
    "plt.scatter(train_df[\"eFG%\"], train_df[\"PTS\"])\n",
    "plt.xlabel(\"eFG%\")\n",
    "plt.ylabel(\"Points per game\")\n",
    "Linear_model.fit(train_df[[\"eFG%\"]], train_df[[\"PTS\"]])\n",
    "efg_predict = Linear_model.predict(train_df[[\"eFG%\"]])\n",
    "plt.plot(train_df[\"eFG%\"], efg_predict, color=\"r\")\n",
    "print('R-squared:', Linear_model.score(train_df[[\"eFG%\"]], train_df[[\"PTS\"]])) # R-squared value"
   ]
  },
  {
   "cell_type": "code",
   "execution_count": 30,
   "metadata": {
    "colab": {
     "base_uri": "https://localhost:8080/",
     "height": 302
    },
    "colab_type": "code",
    "id": "l5zl1VxyTzWb",
    "outputId": "1b334475-0fe2-462f-f82d-dfee456746b4"
   },
   "outputs": [
    {
     "name": "stdout",
     "output_type": "stream",
     "text": [
      "R-squared: 0.5042844231517124\n"
     ]
    },
    {
     "data": {
      "image/png": "[encoded data removed]",
      "text/plain": [
       "<Figure size 432x288 with 1 Axes>"
      ]
     },
     "metadata": {
      "needs_background": "light"
     },
     "output_type": "display_data"
    }
   ],
   "source": [
    "# scatter plots of points per game against 3PA\n",
    "plt.scatter(train_df[\"3PA\"], train_df[\"PTS\"])\n",
    "plt.xlabel(\"3PA\")\n",
    "plt.ylabel(\"Points per game\")\n",
    "Linear_model.fit(train_df[[\"3PA\"]], train_df[[\"PTS\"]])\n",
    "TPA_predict = Linear_model.predict(train_df[[\"3PA\"]])\n",
    "plt.plot(train_df[\"3PA\"], TPA_predict, color=\"r\")\n",
    "print('R-squared:', Linear_model.score(train_df[[\"3PA\"]], train_df[[\"PTS\"]])) # R-squared value"
   ]
  },
  {
   "cell_type": "code",
   "execution_count": 31,
   "metadata": {
    "colab": {
     "base_uri": "https://localhost:8080/",
     "height": 302
    },
    "colab_type": "code",
    "id": "x7i0x_WCUO6w",
    "outputId": "74082bc6-e4c0-4cb8-a1c2-3ea2eddfd9cf"
   },
   "outputs": [
    {
     "name": "stdout",
     "output_type": "stream",
     "text": [
      "R-squared: 0.8020962690292562\n"
     ]
    },
    {
     "data": {
      "image/png": "[encoded data removed]",
      "text/plain": [
       "<Figure size 432x288 with 1 Axes>"
      ]
     },
     "metadata": {
      "needs_background": "light"
     },
     "output_type": "display_data"
    }
   ],
   "source": [
    "# scatter plots of points per game against 3PA\n",
    "plt.scatter(train_df[\"2PA\"], train_df[\"PTS\"])\n",
    "plt.xlabel(\"2PA\")\n",
    "plt.ylabel(\"Points per game\")\n",
    "Linear_model.fit(train_df[[\"2PA\"]], train_df[[\"PTS\"]])\n",
    "TWPA_predict = Linear_model.predict(train_df[[\"2PA\"]])\n",
    "plt.plot(train_df[\"2PA\"], TWPA_predict, color=\"r\")\n",
    "print('R-squared:', Linear_model.score(train_df[[\"2PA\"]], train_df[[\"PTS\"]]))"
   ]
  },
  {
   "cell_type": "code",
   "execution_count": 32,
   "metadata": {
    "colab": {
     "base_uri": "https://localhost:8080/",
     "height": 319
    },
    "colab_type": "code",
    "id": "BuXXtq7yW5Es",
    "outputId": "d0f19294-5606-48c1-c3fa-97af9b280dce"
   },
   "outputs": [
    {
     "name": "stdout",
     "output_type": "stream",
     "text": [
      "R-squared: 0.26998194181002133\n",
      "VIF value: 1.3698291278977672\n"
     ]
    },
    {
     "data": {
      "image/png": "[encoded data removed]",
      "text/plain": [
       "<Figure size 432x288 with 1 Axes>"
      ]
     },
     "metadata": {
      "needs_background": "light"
     },
     "output_type": "display_data"
    }
   ],
   "source": [
    "# scatter plots of 2PA against 3PA\n",
    "plt.scatter(train_df[\"2PA\"], train_df[\"3PA\"])\n",
    "plt.xlabel(\"2PA\")\n",
    "plt.ylabel(\"3PA\")\n",
    "Linear_model.fit(train_df[[\"2PA\"]], train_df[[\"3PA\"]])\n",
    "TWTPA_predict = Linear_model.predict(train_df[[\"2PA\"]])\n",
    "plt.plot(train_df[\"2PA\"], TWTPA_predict, color=\"r\")\n",
    "print('R-squared:', Linear_model.score(train_df[[\"2PA\"]], train_df[[\"3PA\"]]))\n",
    "print(\"VIF value:\", 1/(1-Linear_model.score(train_df[[\"2PA\"]], train_df[[\"3PA\"]]))) #check for collinearity of the variables since it's smaller than 4 there is no problem "
   ]
  },
  {
   "cell_type": "code",
   "execution_count": 33,
   "metadata": {
    "colab": {
     "base_uri": "https://localhost:8080/",
     "height": 322
    },
    "colab_type": "code",
    "id": "0eX44kDjX636",
    "outputId": "8be9ff60-a9f3-40b4-91b8-cc61a0baf141"
   },
   "outputs": [
    {
     "name": "stdout",
     "output_type": "stream",
     "text": [
      "R-squared: 0.7959510797304998\n",
      "VIF value: 4.900785550245684\n"
     ]
    },
    {
     "data": {
      "image/png": "[encoded data removed]",
      "text/plain": [
       "<Figure size 432x288 with 1 Axes>"
      ]
     },
     "metadata": {
      "needs_background": "light"
     },
     "output_type": "display_data"
    }
   ],
   "source": [
    "# scatter plots of 2PA against FGA\n",
    "plt.scatter(train_df[\"2PA\"], train_df[\"FGA\"])\n",
    "plt.xlabel(\"2PA\")\n",
    "plt.ylabel(\"FGA\")\n",
    "Linear_model.fit(train_df[[\"2PA\"]], train_df[[\"FGA\"]])\n",
    "TWFPA_predict = Linear_model.predict(train_df[[\"2PA\"]])\n",
    "plt.plot(train_df[\"2PA\"], TWFPA_predict, color=\"r\")\n",
    "print('R-squared:', Linear_model.score(train_df[[\"2PA\"]], train_df[[\"FGA\"]]))\n",
    "print(\"VIF value:\", 1/(1-Linear_model.score(train_df[[\"2PA\"]], train_df[[\"FGA\"]]))) #check for collinearity of the variables since it's bigger than 4 there is a problem "
   ]
  },
  {
   "cell_type": "code",
   "execution_count": 34,
   "metadata": {
    "colab": {
     "base_uri": "https://localhost:8080/",
     "height": 322
    },
    "colab_type": "code",
    "id": "ivrR-ay5ZmXE",
    "outputId": "635ac432-8f45-43a8-bbf3-ef4355e8eca6"
   },
   "outputs": [
    {
     "name": "stdout",
     "output_type": "stream",
     "text": [
      "R-squared: 0.5172743482913011\n",
      "VIF value: 2.071570044931962\n"
     ]
    },
    {
     "data": {
      "image/png": "[encoded data removed]",
      "text/plain": [
       "<Figure size 432x288 with 1 Axes>"
      ]
     },
     "metadata": {
      "needs_background": "light"
     },
     "output_type": "display_data"
    }
   ],
   "source": [
    "# scatter plots of 2PA against FGA\n",
    "plt.scatter(train_df[\"3PA\"], train_df[\"FGA\"])\n",
    "plt.xlabel(\"3PA\")\n",
    "plt.ylabel(\"FGA\")\n",
    "Linear_model.fit(train_df[[\"3PA\"]], train_df[[\"FGA\"]])\n",
    "TWFPA_predict = Linear_model.predict(train_df[[\"3PA\"]])\n",
    "plt.plot(train_df[\"3PA\"], TWFPA_predict, color=\"r\")\n",
    "print('R-squared:', Linear_model.score(train_df[[\"3PA\"]], train_df[[\"FGA\"]]))\n",
    "print(\"VIF value:\", 1/(1-Linear_model.score(train_df[[\"3PA\"]], train_df[[\"FGA\"]]))) #check for collinearity of the variables since it's smaller than 4 there is no problem "
   ]
  },
  {
   "cell_type": "markdown",
   "metadata": {
    "colab_type": "text",
    "id": "-Sv4OmQEPOcz"
   },
   "source": [
    "## Machine Learning Models"
   ]
  },
  {
   "cell_type": "markdown",
   "metadata": {
    "colab_type": "text",
    "id": "ry0KoNPbPSug"
   },
   "source": [
    "Now that we have done our initial analyses, we can choose features to use in the model. We will make a fair amount of models using different algorithms and compare them to see which is best.\n",
    "\n",
    "From our exploratory analyses and visualizations, it appears that some of our features are more important than others. To avoid overfitting and make our model as efficient as possible, we will use the following features in our final model:\n",
    "* MP: minutes played\n",
    "* PER: player efficiency rating\n",
    "* FGA: field goal attempts\n",
    "* 3PA: 3-point attempts"
   ]
  },
  {
   "cell_type": "code",
   "execution_count": 35,
   "metadata": {
    "colab": {},
    "colab_type": "code",
    "id": "uQB_qNSgPJvu"
   },
   "outputs": [],
   "source": [
    "x_train = train_df[['MP','FGA', 'PER','3PA']]\n",
    "y_train = train_df[['PTS']]\n",
    "\n",
    "x_test = test_df[['MP', 'FGA', 'PER', '3PA']]\n",
    "y_test = test_df[['PTS']]"
   ]
  },
  {
   "cell_type": "markdown",
   "metadata": {
    "colab_type": "text",
    "id": "p0KyHYguPYod"
   },
   "source": [
    "### Linear Regression"
   ]
  },
  {
   "cell_type": "code",
   "execution_count": 36,
   "metadata": {
    "colab": {
     "base_uri": "https://localhost:8080/",
     "height": 269
    },
    "colab_type": "code",
    "id": "0RLJokqVPKNk",
    "outputId": "9ba137ac-a0b2-48c9-d7b1-58453f063303"
   },
   "outputs": [
    {
     "name": "stdout",
     "output_type": "stream",
     "text": [
      "MSE: 1.0084119370902884\n",
      "R^2: 0.959807209249739\n"
     ]
    },
    {
     "data": {
      "text/html": [
       "<div>\n",
       "<style scoped>\n",
       "    .dataframe tbody tr th:only-of-type {\n",
       "        vertical-align: middle;\n",
       "    }\n",
       "\n",
       "    .dataframe tbody tr th {\n",
       "        vertical-align: top;\n",
       "    }\n",
       "\n",
       "    .dataframe thead th {\n",
       "        text-align: right;\n",
       "    }\n",
       "</style>\n",
       "<table border=\"1\" class=\"dataframe\">\n",
       "  <thead>\n",
       "    <tr style=\"text-align: right;\">\n",
       "      <th></th>\n",
       "      <th>Actual</th>\n",
       "      <th>Predicted</th>\n",
       "    </tr>\n",
       "    <tr>\n",
       "      <th>Player</th>\n",
       "      <th></th>\n",
       "      <th></th>\n",
       "    </tr>\n",
       "  </thead>\n",
       "  <tbody>\n",
       "    <tr>\n",
       "      <th>Lamar Patterson</th>\n",
       "      <td>1.8</td>\n",
       "      <td>1.3</td>\n",
       "    </tr>\n",
       "    <tr>\n",
       "      <th>Ryan Kelly</th>\n",
       "      <td>1.6</td>\n",
       "      <td>1.4</td>\n",
       "    </tr>\n",
       "    <tr>\n",
       "      <th>Troy Williams</th>\n",
       "      <td>6.2</td>\n",
       "      <td>6.1</td>\n",
       "    </tr>\n",
       "    <tr>\n",
       "      <th>Mike Conley</th>\n",
       "      <td>20.5</td>\n",
       "      <td>19.5</td>\n",
       "    </tr>\n",
       "    <tr>\n",
       "      <th>DeAndre Jordan</th>\n",
       "      <td>12.7</td>\n",
       "      <td>9.9</td>\n",
       "    </tr>\n",
       "  </tbody>\n",
       "</table>\n",
       "</div>"
      ],
      "text/plain": [
       "                 Actual  Predicted\n",
       "Player                            \n",
       "Lamar Patterson     1.8        1.3\n",
       "Ryan Kelly          1.6        1.4\n",
       "Troy Williams       6.2        6.1\n",
       "Mike Conley        20.5       19.5\n",
       "DeAndre Jordan     12.7        9.9"
      ]
     },
     "execution_count": 36,
     "metadata": {},
     "output_type": "execute_result"
    }
   ],
   "source": [
    "# Fit linear regression model\n",
    "# Linear regression models have no hyperparameters\n",
    "lin_reg = LinearRegression()\n",
    "lin_reg.fit(x_train, y_train)\n",
    "\n",
    "# Predict\n",
    "lin_y_pred = lin_reg.predict(x_test)\n",
    "\n",
    "# MSE\n",
    "lr_mse = MSE(y_test, lin_y_pred)\n",
    "print('MSE:', lr_mse)\n",
    "\n",
    "# r-squared value\n",
    "lr_rsquared = r2_score(y_test, lin_y_pred)\n",
    "print('R^2:', lr_rsquared)\n",
    "\n",
    "# Display results\n",
    "lr_df = pd.DataFrame({'Actual': np.array(y_test['PTS']), 'Predicted': lin_y_pred.flatten()}, \n",
    "                     index=test_df['Player'])\n",
    "\n",
    "lr_df.round(1).head()\n",
    "\n"
   ]
  },
  {
   "cell_type": "markdown",
   "metadata": {
    "colab_type": "text",
    "id": "W9FQT_2q9fxI"
   },
   "source": [
    "### Ridge Regression"
   ]
  },
  {
   "cell_type": "code",
   "execution_count": 37,
   "metadata": {
    "colab": {
     "base_uri": "https://localhost:8080/",
     "height": 269
    },
    "colab_type": "code",
    "id": "Nsks6V1xMZ_E",
    "outputId": "13262aa9-8d2b-4a2b-82f3-2f1f9d5e3295"
   },
   "outputs": [
    {
     "name": "stdout",
     "output_type": "stream",
     "text": [
      "MSE: 0.9666438981183892\n",
      "R^2: 0.9614719793587584\n"
     ]
    },
    {
     "data": {
      "text/html": [
       "<div>\n",
       "<style scoped>\n",
       "    .dataframe tbody tr th:only-of-type {\n",
       "        vertical-align: middle;\n",
       "    }\n",
       "\n",
       "    .dataframe tbody tr th {\n",
       "        vertical-align: top;\n",
       "    }\n",
       "\n",
       "    .dataframe thead th {\n",
       "        text-align: right;\n",
       "    }\n",
       "</style>\n",
       "<table border=\"1\" class=\"dataframe\">\n",
       "  <thead>\n",
       "    <tr style=\"text-align: right;\">\n",
       "      <th></th>\n",
       "      <th>Actual</th>\n",
       "      <th>Predicted</th>\n",
       "    </tr>\n",
       "    <tr>\n",
       "      <th>Player</th>\n",
       "      <th></th>\n",
       "      <th></th>\n",
       "    </tr>\n",
       "  </thead>\n",
       "  <tbody>\n",
       "    <tr>\n",
       "      <th>Lamar Patterson</th>\n",
       "      <td>1.8</td>\n",
       "      <td>0.8</td>\n",
       "    </tr>\n",
       "    <tr>\n",
       "      <th>Ryan Kelly</th>\n",
       "      <td>1.6</td>\n",
       "      <td>1.3</td>\n",
       "    </tr>\n",
       "    <tr>\n",
       "      <th>Troy Williams</th>\n",
       "      <td>6.2</td>\n",
       "      <td>6.1</td>\n",
       "    </tr>\n",
       "    <tr>\n",
       "      <th>Mike Conley</th>\n",
       "      <td>20.5</td>\n",
       "      <td>19.5</td>\n",
       "    </tr>\n",
       "    <tr>\n",
       "      <th>DeAndre Jordan</th>\n",
       "      <td>12.7</td>\n",
       "      <td>10.5</td>\n",
       "    </tr>\n",
       "  </tbody>\n",
       "</table>\n",
       "</div>"
      ],
      "text/plain": [
       "                 Actual  Predicted\n",
       "Player                            \n",
       "Lamar Patterson     1.8        0.8\n",
       "Ryan Kelly          1.6        1.3\n",
       "Troy Williams       6.2        6.1\n",
       "Mike Conley        20.5       19.5\n",
       "DeAndre Jordan     12.7       10.5"
      ]
     },
     "execution_count": 37,
     "metadata": {},
     "output_type": "execute_result"
    }
   ],
   "source": [
    "# Ridge regression is least squares with l2 regularization.\n",
    "ridge_params = {'alpha': np.arange(200, 500, 20)}\n",
    "ridge = GridSearchCV(Ridge(), param_grid=ridge_params)\n",
    "ridge.fit(x_train, y_train).best_estimator_\n",
    "\n",
    "# Predict\n",
    "ridge_predict = ridge.predict(x_test)\n",
    "\n",
    "# MSE\n",
    "ridge_mse = MSE(y_test, ridge_predict)\n",
    "print('MSE:', ridge_mse)\n",
    "\n",
    "# r squared value\n",
    "ridge_rsquared = r2_score(y_test, ridge_predict)\n",
    "print('R^2:', ridge_rsquared)\n",
    "\n",
    "# Display results\n",
    "lr1_df=pd.DataFrame({\"Actual\": np.array(y_test[\"PTS\"]), \"Predicted\": ridge_predict.flatten()}, index=test_df['Player'])\n",
    "\n",
    "lr1_df.round(1).head()\n"
   ]
  },
  {
   "cell_type": "markdown",
   "metadata": {
    "colab_type": "text",
    "id": "z4qUoYFVPf8b"
   },
   "source": [
    "### Decision Tree Regression"
   ]
  },
  {
   "cell_type": "code",
   "execution_count": 38,
   "metadata": {
    "colab": {
     "base_uri": "https://localhost:8080/",
     "height": 51
    },
    "colab_type": "code",
    "id": "JtAS0IBkPKcK",
    "outputId": "064b78c7-d3b0-472b-9d5a-84902ed55c49"
   },
   "outputs": [
    {
     "name": "stdout",
     "output_type": "stream",
     "text": [
      "MSE: 1.5563341842215526\n",
      "R^2: 0.9379683917820438\n"
     ]
    }
   ],
   "source": [
    "# Fit decision tree regression model\n",
    "dt_params = {'min_samples_split' : range(10,500,20),'max_depth': range(1,20,2)}\n",
    "dt_reg = GridSearchCV(DecisionTreeRegressor(), param_grid=dt_params)\n",
    "dt_reg.fit(x_train, y_train).best_estimator_\n",
    "\n",
    "# Predict\n",
    "dt_y_pred = dt_reg.predict(x_test)\n",
    "\n",
    "# MSE\n",
    "dt_mse = MSE(y_test, dt_y_pred)\n",
    "print('MSE:', dt_mse)\n",
    "\n",
    "# r-squared value\n",
    "dt_rsquared = r2_score(y_test, dt_y_pred)\n",
    "print('R^2:', dt_rsquared)"
   ]
  },
  {
   "cell_type": "code",
   "execution_count": 39,
   "metadata": {
    "colab": {
     "base_uri": "https://localhost:8080/",
     "height": 235
    },
    "colab_type": "code",
    "id": "hTuBRk6zWho9",
    "outputId": "179584e9-faff-481d-add6-312d14a026fa"
   },
   "outputs": [
    {
     "data": {
      "text/html": [
       "<div>\n",
       "<style scoped>\n",
       "    .dataframe tbody tr th:only-of-type {\n",
       "        vertical-align: middle;\n",
       "    }\n",
       "\n",
       "    .dataframe tbody tr th {\n",
       "        vertical-align: top;\n",
       "    }\n",
       "\n",
       "    .dataframe thead th {\n",
       "        text-align: right;\n",
       "    }\n",
       "</style>\n",
       "<table border=\"1\" class=\"dataframe\">\n",
       "  <thead>\n",
       "    <tr style=\"text-align: right;\">\n",
       "      <th></th>\n",
       "      <th>Actual</th>\n",
       "      <th>Predicted</th>\n",
       "    </tr>\n",
       "    <tr>\n",
       "      <th>Player</th>\n",
       "      <th></th>\n",
       "      <th></th>\n",
       "    </tr>\n",
       "  </thead>\n",
       "  <tbody>\n",
       "    <tr>\n",
       "      <th>Lamar Patterson</th>\n",
       "      <td>1.8</td>\n",
       "      <td>2.0</td>\n",
       "    </tr>\n",
       "    <tr>\n",
       "      <th>Ryan Kelly</th>\n",
       "      <td>1.6</td>\n",
       "      <td>1.6</td>\n",
       "    </tr>\n",
       "    <tr>\n",
       "      <th>Troy Williams</th>\n",
       "      <td>6.2</td>\n",
       "      <td>5.6</td>\n",
       "    </tr>\n",
       "    <tr>\n",
       "      <th>Mike Conley</th>\n",
       "      <td>20.5</td>\n",
       "      <td>18.5</td>\n",
       "    </tr>\n",
       "    <tr>\n",
       "      <th>DeAndre Jordan</th>\n",
       "      <td>12.7</td>\n",
       "      <td>8.3</td>\n",
       "    </tr>\n",
       "  </tbody>\n",
       "</table>\n",
       "</div>"
      ],
      "text/plain": [
       "                 Actual  Predicted\n",
       "Player                            \n",
       "Lamar Patterson     1.8        2.0\n",
       "Ryan Kelly          1.6        1.6\n",
       "Troy Williams       6.2        5.6\n",
       "Mike Conley        20.5       18.5\n",
       "DeAndre Jordan     12.7        8.3"
      ]
     },
     "execution_count": 39,
     "metadata": {},
     "output_type": "execute_result"
    }
   ],
   "source": [
    "# Display results\n",
    "dt_df = pd.DataFrame({'Actual': np.array(y_test['PTS']), 'Predicted': dt_y_pred.flatten()}, \n",
    "                     index=test_df['Player'])\n",
    "\n",
    "dt_df.round(1).head()"
   ]
  },
  {
   "cell_type": "markdown",
   "metadata": {
    "colab_type": "text",
    "id": "GUNhY6iCUHiq"
   },
   "source": [
    "### Random Forest Regression"
   ]
  },
  {
   "cell_type": "code",
   "execution_count": 52,
   "metadata": {
    "colab": {
     "base_uri": "https://localhost:8080/",
     "height": 51
    },
    "colab_type": "code",
    "id": "_VDF5K_dUKLb",
    "outputId": "805be043-8ebf-4dc2-9646-4f64f875103a"
   },
   "outputs": [
    {
     "name": "stdout",
     "output_type": "stream",
     "text": [
      "MSE: 0.9060881525772517\n",
      "R^2: 0.963885580705331\n"
     ]
    }
   ],
   "source": [
    "# Fit random forest regression model\n",
    "rf_params = {\n",
    "    'max_depth': [80, 90, 100, 110],\n",
    "    'n_estimators': np.arange(10, 81, 5)}\n",
    "rf_reg = GridSearchCV(RandomForestRegressor(), param_grid=rf_params)\n",
    "rf_reg.fit(x_train, y_train.values.ravel()).best_estimator_\n",
    "\n",
    "# Predict\n",
    "rf_y_pred = rf_reg.predict(x_test)\n",
    "\n",
    "# MSE\n",
    "rf_mse = MSE(y_test, rf_y_pred)\n",
    "print('MSE:', rf_mse)\n",
    "\n",
    "# r-squared value\n",
    "rf_rsquared = r2_score(y_test, rf_y_pred)\n",
    "print('R^2:', rf_rsquared)"
   ]
  },
  {
   "cell_type": "code",
   "execution_count": 53,
   "metadata": {
    "colab": {
     "base_uri": "https://localhost:8080/",
     "height": 235
    },
    "colab_type": "code",
    "id": "JxHDJAKZXDXW",
    "outputId": "d7aedfd8-0705-427b-a906-281bf455d5c2"
   },
   "outputs": [
    {
     "data": {
      "text/html": [
       "<div>\n",
       "<style scoped>\n",
       "    .dataframe tbody tr th:only-of-type {\n",
       "        vertical-align: middle;\n",
       "    }\n",
       "\n",
       "    .dataframe tbody tr th {\n",
       "        vertical-align: top;\n",
       "    }\n",
       "\n",
       "    .dataframe thead th {\n",
       "        text-align: right;\n",
       "    }\n",
       "</style>\n",
       "<table border=\"1\" class=\"dataframe\">\n",
       "  <thead>\n",
       "    <tr style=\"text-align: right;\">\n",
       "      <th></th>\n",
       "      <th>Actual</th>\n",
       "      <th>Predicted</th>\n",
       "    </tr>\n",
       "    <tr>\n",
       "      <th>Player</th>\n",
       "      <th></th>\n",
       "      <th></th>\n",
       "    </tr>\n",
       "  </thead>\n",
       "  <tbody>\n",
       "    <tr>\n",
       "      <th>Lamar Patterson</th>\n",
       "      <td>1.8</td>\n",
       "      <td>2.4</td>\n",
       "    </tr>\n",
       "    <tr>\n",
       "      <th>Ryan Kelly</th>\n",
       "      <td>1.6</td>\n",
       "      <td>1.7</td>\n",
       "    </tr>\n",
       "    <tr>\n",
       "      <th>Troy Williams</th>\n",
       "      <td>6.2</td>\n",
       "      <td>6.1</td>\n",
       "    </tr>\n",
       "    <tr>\n",
       "      <th>Mike Conley</th>\n",
       "      <td>20.5</td>\n",
       "      <td>19.0</td>\n",
       "    </tr>\n",
       "    <tr>\n",
       "      <th>DeAndre Jordan</th>\n",
       "      <td>12.7</td>\n",
       "      <td>9.1</td>\n",
       "    </tr>\n",
       "  </tbody>\n",
       "</table>\n",
       "</div>"
      ],
      "text/plain": [
       "                 Actual  Predicted\n",
       "Player                            \n",
       "Lamar Patterson     1.8        2.4\n",
       "Ryan Kelly          1.6        1.7\n",
       "Troy Williams       6.2        6.1\n",
       "Mike Conley        20.5       19.0\n",
       "DeAndre Jordan     12.7        9.1"
      ]
     },
     "execution_count": 53,
     "metadata": {},
     "output_type": "execute_result"
    }
   ],
   "source": [
    "# Display results\n",
    "rf_df = pd.DataFrame({'Actual': np.array(y_test['PTS']), 'Predicted': rf_y_pred.flatten()}, \n",
    "                     index=test_df['Player'])\n",
    "\n",
    "rf_df.round(1).head()"
   ]
  },
  {
   "cell_type": "markdown",
   "metadata": {
    "colab": {},
    "colab_type": "code",
    "id": "F9LVnFju0ezn"
   },
   "source": [
    "## Model Results & Conclusions"
   ]
  },
  {
   "cell_type": "code",
   "execution_count": 62,
   "metadata": {
    "colab": {},
    "colab_type": "code",
    "id": "yDqOiHZMMm-D"
   },
   "outputs": [
    {
     "data": {
      "text/html": [
       "<div>\n",
       "<style scoped>\n",
       "    .dataframe tbody tr th:only-of-type {\n",
       "        vertical-align: middle;\n",
       "    }\n",
       "\n",
       "    .dataframe tbody tr th {\n",
       "        vertical-align: top;\n",
       "    }\n",
       "\n",
       "    .dataframe thead th {\n",
       "        text-align: right;\n",
       "    }\n",
       "</style>\n",
       "<table border=\"1\" class=\"dataframe\">\n",
       "  <thead>\n",
       "    <tr style=\"text-align: right;\">\n",
       "      <th></th>\n",
       "      <th>Regression Model</th>\n",
       "      <th>MSE</th>\n",
       "      <th>RMSE</th>\n",
       "      <th>R^2</th>\n",
       "    </tr>\n",
       "  </thead>\n",
       "  <tbody>\n",
       "    <tr>\n",
       "      <th>0</th>\n",
       "      <td>Linear</td>\n",
       "      <td>1.008</td>\n",
       "      <td>1.004</td>\n",
       "      <td>0.960</td>\n",
       "    </tr>\n",
       "    <tr>\n",
       "      <th>1</th>\n",
       "      <td>Ridge</td>\n",
       "      <td>0.967</td>\n",
       "      <td>0.983</td>\n",
       "      <td>0.961</td>\n",
       "    </tr>\n",
       "    <tr>\n",
       "      <th>2</th>\n",
       "      <td>Decision Tree</td>\n",
       "      <td>1.556</td>\n",
       "      <td>1.248</td>\n",
       "      <td>0.938</td>\n",
       "    </tr>\n",
       "    <tr>\n",
       "      <th>3</th>\n",
       "      <td>Random Forest</td>\n",
       "      <td>0.906</td>\n",
       "      <td>0.952</td>\n",
       "      <td>0.964</td>\n",
       "    </tr>\n",
       "  </tbody>\n",
       "</table>\n",
       "</div>"
      ],
      "text/plain": [
       "  Regression Model    MSE   RMSE    R^2\n",
       "0           Linear  1.008  1.004  0.960\n",
       "1            Ridge  0.967  0.983  0.961\n",
       "2    Decision Tree  1.556  1.248  0.938\n",
       "3    Random Forest  0.906  0.952  0.964"
      ]
     },
     "execution_count": 62,
     "metadata": {},
     "output_type": "execute_result"
    }
   ],
   "source": [
    "scores_df = pd.DataFrame(data=[('Linear', lr_mse, np.sqrt(lr_mse), lr_rsquared), \n",
    "                               ('Ridge', ridge_mse, np.sqrt(ridge_mse), ridge_rsquared),\n",
    "                               ('Decision Tree', dt_mse, np.sqrt(dt_mse), dt_rsquared),\n",
    "                               ('Random Forest', rf_mse, np.sqrt(rf_mse), rf_rsquared)],\n",
    "                         columns=('Regression Model', 'MSE', 'RMSE', 'R^2'))\n",
    "scores_df.round(3)"
   ]
  },
  {
   "cell_type": "markdown",
   "metadata": {
    "colab": {},
    "colab_type": "code",
    "id": "M5Q6opfiMnVU"
   },
   "source": [
    "As we want to use MSE as our main measure of accuracy, we can see that the random forest regressor did considerably better than the other models. The R<sup>2</sup> value of the random forest regressor is also on par with the others.\n",
    "\n",
    "The RMSE of 0.952 for the random forest regressor is quite good. The average PPG for all players in the NBA was roughly 8.5, which means we are, on average, just under 90% accurate in predicting PPG. Due to the wide range of PPG in the NBA our accuracy will be, generally, better for those who score more points and worse for those who score less points."
   ]
  },
  {
   "cell_type": "markdown",
   "metadata": {
    "colab_type": "text",
    "id": "Xayce663MpYR"
   },
   "source": [
    "## Thoughts for the Future/Reflections"
   ]
  },
  {
   "cell_type": "markdown",
   "metadata": {
    "colab": {},
    "colab_type": "code",
    "id": "VqQfoNijMoRd"
   },
   "source": [
    "In hindsight, we have come to recognize certain flaws and strengths of our model and procedures. This being said, all of us are new to the world of machine learning and data science, and indeed have found a sense of gratification and fulfillment with the progress we have made thus far. While we are aptly happy with our results, we believe it is of importance to disclose our conclusions about our methods to improve future iterations of the model and how we should approach model construction in times to come."
   ]
  },
  {
   "cell_type": "markdown",
   "metadata": {},
   "source": [
    "### Feature Selection"
   ]
  },
  {
   "cell_type": "markdown",
   "metadata": {},
   "source": [
    "Admittedly, there was not a very analytical approach to feature selection beyond knowledge of the game of basketball, simple correlation modeling, and supposedly rational thinking to identify prudent choices for variables. While our decisions for the features our model used were based on our exploration of correlations, we did not employ rigorous computational testing procedures to determine the very best features, nor did we attempt any feature engineering of our own.\n",
    "\n",
    "For example, we determined it rational that a player's defense statistics were likely to be of little use to our model. While the correlation visualizations appear to back up this claim, perhaps a more meticulous analysis of these such features would show them to be usefull.\n",
    "\n",
    "While categorical variables did not appear to have a great impact on a player's points per game average, if someone were to find a need to utilize a feature such as a player's position, one-hot encoding them into the dataset would be useful.\n",
    "\n",
    "Lastly, and perhaps most importantly, we did not check for collinearity between our features. Doing so could improve our model, maybe significantly."
   ]
  },
  {
   "cell_type": "markdown",
   "metadata": {},
   "source": [
    "### Model Selection"
   ]
  },
  {
   "cell_type": "markdown",
   "metadata": {},
   "source": [
    "Our selection of regression models was by no means exhaustive. All of us being relatively new to machine learning, we opted for the most popular and widely used models for our project. This being said, our accuracy was indeed quite good, and we are nonetheless very satisfied with the results of our project.\n",
    "\n",
    "In the future, perhaps regression models such as polynomial, lasso, or elastic net regression could prove useful."
   ]
  },
  {
   "cell_type": "markdown",
   "metadata": {},
   "source": [
    "### Model Tuning"
   ]
  },
  {
   "cell_type": "markdown",
   "metadata": {},
   "source": [
    "This was likely the most technically advanced part of the project. The methods and implementations of hyperparameter tuning definitely appeared to be complex and highly mathematical. Given this, we believe that the most nuanced aspect was defining parameter grids for GridSearchCV. Seeing that none of us have a complete understanding of the mathematics behind each model, we more or less used trial and error to determine which ranges of parameters should be put into the parameter grid for GridSearchCV to use.\n",
    "\n",
    "Nevertheless, hyperparameter tuning significantly improved the performance of each model. MSE consistently decreased by 10%-20%. However, it is likely that further tuning would result in even greater accuracy."
   ]
  }
 ],
 "metadata": {
  "colab": {
   "collapsed_sections": [],
   "name": "nba-player-prediction.ipynb",
   "provenance": [],
   "toc_visible": true
  },
  "kernelspec": {
   "display_name": "Python 3",
   "language": "python",
   "name": "python3"
  },
  "language_info": {
   "codemirror_mode": {
    "name": "ipython",
    "version": 3
   },
   "file_extension": ".py",
   "mimetype": "text/x-python",
   "name": "python",
   "nbconvert_exporter": "python",
   "pygments_lexer": "ipython3",
   "version": "3.7.6"
  }
 },
 "nbformat": 4,
 "nbformat_minor": 1
}
